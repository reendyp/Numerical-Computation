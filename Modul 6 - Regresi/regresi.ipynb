{
 "cells": [
  {
   "cell_type": "markdown",
   "metadata": {},
   "source": [
    "$$ \\vec{\\beta} = (X^TX)^{-1}X^T\\vec{y}$$"
   ]
  },
  {
   "cell_type": "markdown",
   "metadata": {},
   "source": [
    "X = matriks Vandermonde \\\n",
    "$\\vec{y}$ = Matriks daerah hasil (range)"
   ]
  },
  {
   "cell_type": "markdown",
   "metadata": {},
   "source": [
    "# 1. Mencari nilai X"
   ]
  },
  {
   "cell_type": "code",
   "execution_count": 34,
   "metadata": {},
   "outputs": [
    {
     "name": "stdout",
     "output_type": "stream",
     "text": [
      "[[1, 1, 1], [1, 2, 4], [1, 3, 9], [1, 4, 16], [1, 5, 25], [1, 6, 36]]\n"
     ]
    }
   ],
   "source": [
    "import numpy as np\n",
    "\n",
    "dataX = [i for i in range(1,7)]\n",
    "dataY = [1.8,3.5,4.2,4.9,5.3,6,6.8,6.5,6.4,6.9]\n",
    "\n",
    "x = []\n",
    "n = int(input(\"Masukkan jumlah orde: \"))\n",
    "xSeparation = []\n",
    "\n",
    "for i in range(len(dataX)):\n",
    "    pangkat = 0 \n",
    "    for j in range(n+1):\n",
    "        elementX = dataX[i]**pangkat\n",
    "        pangkat += 1 \n",
    "        xSeparation.append(elementX)\n",
    "    x.append(xSeparation)\n",
    "    xSeparation = [] # memisahkan setiap baris\n",
    "print(x)"
   ]
  },
  {
   "cell_type": "markdown",
   "metadata": {},
   "source": [
    "# 2. Melakukan Transpose matriks X"
   ]
  },
  {
   "cell_type": "code",
   "execution_count": 36,
   "metadata": {},
   "outputs": [
    {
     "name": "stdout",
     "output_type": "stream",
     "text": [
      "[[1, 1, 1, 1, 1, 1], [1, 2, 3, 4, 5, 6], [1, 4, 9, 16, 25, 36]]\n"
     ]
    }
   ],
   "source": [
    "import numpy as np\n",
    "\n",
    "x = np.array([[1, 1, 1], [1, 2, 4], [1, 3, 9], [1, 4, 16], [1, 5, 25], [1, 6, 36]]\n",
    ")\n",
    "\n",
    "def transposeMatrix(x):\n",
    "    xT = []\n",
    "    for j in range(len(x[0])):\n",
    "        cols = []\n",
    "        for i in range(len(x)):\n",
    "            cols.append(x[i][j])\n",
    "        xT.append(cols)\n",
    "    return xT\n",
    "\n",
    "xTranspose = transposeMatrix(x)\n",
    "print(xTranspose)"
   ]
  },
  {
   "cell_type": "markdown",
   "metadata": {},
   "source": [
    "# 3. Hitung $$M = (X^TX)$$"
   ]
  },
  {
   "cell_type": "code",
   "execution_count": 43,
   "metadata": {},
   "outputs": [
    {
     "name": "stdout",
     "output_type": "stream",
     "text": [
      "Matriks M = [[6, 21, 91], [21, 91, 441], [91, 441, 2275]]\n"
     ]
    }
   ],
   "source": [
    "import numpy as np\n",
    "\n",
    "xT = np.array([[1, 1, 1, 1, 1, 1], [1, 2, 3, 4, 5, 6], [1, 4, 9, 16, 25, 36]])\n",
    "x = np.array([[1, 1, 1], [1, 2, 4], [1, 3, 9], [1, 4, 16], [1, 5, 25], [1, 6, 36]])\n",
    "\n",
    "def multiplyMatrixs(x1,x2):\n",
    "    m = []\n",
    "    for i in range(len(x1)):\n",
    "        row = []\n",
    "        for j in range(len(x2[0])):\n",
    "            sum = 0 \n",
    "            for k in range(len(x1[0])):\n",
    "                sum += x1[i][k] * x2[k][j]\n",
    "            row.append(sum)\n",
    "        m.append(row)    \n",
    "    return m\n",
    "multiplyM = multiplyMatrixs(xT,x)\n",
    "print(f\"Matriks M = {multiplyM}\")"
   ]
  },
  {
   "cell_type": "markdown",
   "metadata": {},
   "source": [
    "# 4. Hitung invers M $$M^{-1}$$ Gunakan LU-Decomposition"
   ]
  },
  {
   "cell_type": "code",
   "execution_count": 49,
   "metadata": {},
   "outputs": [
    {
     "name": "stdout",
     "output_type": "stream",
     "text": [
      "Matriks Lower = \n",
      "[[  6.           0.           0.        ]\n",
      " [ 21.          17.5          0.        ]\n",
      " [ 91.         122.5         37.33333333]]\n",
      "Matriks Upper = \n",
      "[[ 1.          3.5        15.16666667]\n",
      " [ 0.          1.          7.        ]\n",
      " [ 0.          0.          1.        ]]\n",
      "Matriks D = \n",
      "[[ 0.16666667  0.          0.        ]\n",
      " [-0.2         0.05714286  0.        ]\n",
      " [ 0.25       -0.1875      0.02678571]]\n"
     ]
    }
   ],
   "source": [
    "import numpy as np\n",
    "\n",
    "m = np.array([[6, 21, 91], [21, 91, 441], [91, 441, 2275]],float)\n",
    "\n",
    "y = np.array([[1, 0, 0], [0, 1, 0], [0, 0, 1]],float)\n",
    "\n",
    "\n",
    "def LUCrout():\n",
    "    L = np.array([\n",
    "        [0.0,0.0,0.0],[0.0,0.0,0.0],[0.0,0.0,0.0]\n",
    "        ],float)\n",
    "\n",
    "    U = np.array([\n",
    "        [0.0,0.0,0.0],[0.0,0.0,0.0],[0.0,0.0,0.0]\n",
    "        ],float)\n",
    "    beta = np.array([[0.0,0.0,0.0],[0.0,0.0,0.0],[0.0,0.0,0.0]],float)\n",
    "    \n",
    "    \n",
    "    # Start\n",
    "    for i in range(len(L)):\n",
    "        L[i][0]= m[i][0] #2\n",
    "        for j in range(0,len(m)):\n",
    "            if i==j: #3\n",
    "                U[i][j] = 1.0\n",
    "            else:\n",
    "                U[0][j] = m[0][j]/L[0][0] #4\n",
    "    \n",
    "    for j in range(1,len(L)): #5\n",
    "        for i in range(j,len(m)):\n",
    "            LUforLower = 0.0\n",
    "            for k in range(0,j):\n",
    "                LUforLower += L[i][k]*U[k][j]\n",
    "            L[i][j] = m[i][j] - LUforLower\n",
    "            \n",
    "        for k in range(j,len(m)):\n",
    "            LUforUpper = 0.0\n",
    "            for i in range(0,j):\n",
    "                LUforUpper += L[j][i]*U[i][k]\n",
    "            U[j][k] = (m[j][k] - LUforUpper)/L[j][j]\n",
    "    for n in range(len(m)):\n",
    "        sumofLU = 0.0\n",
    "        for k in range(0,n): # batas n-1 awalnya kemudian upper tidak sempurna perhitungannya\n",
    "            sumofLU += L[n][k]*U[k][n]\n",
    "        L[n][n] = m[n][n] - sumofLU\n",
    "        \n",
    "    for i in range(0,len(beta)):\n",
    "        sumOFLD = 0.0\n",
    "        for j in range(0,i):\n",
    "            sumOFLD += L[i][j]*beta[j]\n",
    "\n",
    "        beta[i] = (y[i] - sumOFLD)/L[i][i]\n",
    "        \n",
    "    print(f\"Matriks Lower = \\n{L}\")\n",
    "    print(f\"Matriks Upper = \\n{U}\")\n",
    "    print(f\"Matriks D = \\n{beta}\")\n",
    "    \n",
    "    \n",
    "LUCrout()"
   ]
  },
  {
   "cell_type": "markdown",
   "metadata": {},
   "source": [
    "# Sulih Mundur - Backward Substitution"
   ]
  },
  {
   "cell_type": "code",
   "execution_count": 115,
   "metadata": {},
   "outputs": [
    {
     "name": "stdout",
     "output_type": "stream",
     "text": [
      "[[ 3.1992   -1.949225  0.250044]\n",
      " [-1.95      1.3696   -0.1876  ]\n",
      " [ 0.25     -0.1875    0.0268  ]]\n"
     ]
    }
   ],
   "source": [
    "b = np.array([[1,3.5,15.17],\n",
    "            [0,1,7],\n",
    "            [0,0,1]],float)\n",
    "\n",
    "a = np.array([[0.1667,0,0],\n",
    "            [-0.2,0.0571,0],\n",
    "            [0.25,-0.1875,0.0268]],float)\n",
    "def backwardSubs(u,d):\n",
    "    inversM = np.array([[0,0,0],\n",
    "                        [0,0,0],\n",
    "                        [0,0,0]],float)\n",
    "    n = len(inversM)\n",
    "    for i in range(n-1,-1,-1):\n",
    "        sumUpper = 0.0\n",
    "        for j in range(i+1,n):\n",
    "            sumUpper += u[i][j]*inversM[j]\n",
    "\n",
    "        inversM[i] = (d[i] - sumUpper)/u[i][i]\n",
    "    print(inversM)\n",
    "backwardSubs(b,a)\n"
   ]
  },
  {
   "cell_type": "markdown",
   "metadata": {},
   "source": [
    "# Paramater yang telah didapat  = $M^{-1}; X^T$ "
   ]
  },
  {
   "cell_type": "markdown",
   "metadata": {},
   "source": [
    "$$ \\vec{\\beta} = (X^TX)^{-1}X^T\\vec{y}$$"
   ]
  },
  {
   "cell_type": "markdown",
   "metadata": {},
   "source": [
    "# Mencari nilai koefisien $\\vec{\\beta}$ "
   ]
  },
  {
   "cell_type": "code",
   "execution_count": 132,
   "metadata": {},
   "outputs": [
    {
     "name": "stdout",
     "output_type": "stream",
     "text": [
      "[[-0.233267]\n",
      " [ 0.6169  ]\n",
      " [ 0.9251  ]]\n"
     ]
    }
   ],
   "source": [
    "inversM = np.array([[3.1992,-1.949225,0.250044],\n",
    "                    [-1.95,1.3696,-0.1875],\n",
    "                    [0.25,-0.1875,0.0268]],float)\n",
    "xTranspose = np.array([[1, 1, 1, 1, 1, 1], [1, 2, 3, 4, 5, 6], [1, 4, 9, 16, 25, 36]],float)\n",
    "dataY = np.array([[1],[4],[10],[15],[26],[35]],float)\n",
    "# M^-1 * x^t = initBeta\n",
    "initBeta = inversM@xTranspose@dataY\n",
    "\n",
    "print(initBeta)"
   ]
  },
  {
   "cell_type": "markdown",
   "metadata": {},
   "source": [
    "# plotting grafik dan penetuan persamaan"
   ]
  },
  {
   "cell_type": "code",
   "execution_count": 221,
   "metadata": {},
   "outputs": [
    {
     "data": {
      "image/png": "[encoded data removed]",
      "text/plain": [
       "<Figure size 640x480 with 1 Axes>"
      ]
     },
     "metadata": {},
     "output_type": "display_data"
    }
   ],
   "source": [
    "import matplotlib.pyplot as plt\n",
    "from matplotlib.text import Text\n",
    "fx = lambda x: -0.233267+0.6169*x+0.9521**x^2\n",
    "dataX = [x for x in range(1,7)]\n",
    "approxDataY = [-0.233267+0.6169*x+0.9521*x**2 for x in dataX]\n",
    "\n",
    "plt.plot(dataX,approxDataY)\n",
    "plt.plot(dataX,dataY,\"ro\")\n",
    "plt.title(\"Grafik Korelasi Data X\")\n",
    "plt.xlabel(\"Data X\")\n",
    "plt.ylabel(\"Aproksimasi dari Fungsi Regresi\")\n",
    "plt.show()"
   ]
  },
  {
   "cell_type": "markdown",
   "metadata": {},
   "source": [
    "# Menghitung koefiesien relasi $R = \\frac{\\sum(x_i - \\bar{x})(y_i - \\bar{y})}{\\sqrt{\\sum(x_i - \\bar{x})^2 (y_i - \\bar{y})^2}}$"
   ]
  },
  {
   "cell_type": "code",
   "execution_count": 168,
   "metadata": {},
   "outputs": [
    {
     "name": "stdout",
     "output_type": "stream",
     "text": [
      "Nilai koefisien relasi data = 0.980628622556933\n"
     ]
    }
   ],
   "source": [
    "dataX = np.array([1.0,2.0,3.0,4.0,5.0,6.0])\n",
    "dataY = np.array([1,4.0,10.0,15.0,26.0,35.0])\n",
    "\n",
    "xBar = 3.5\n",
    "yBar = 15.16666667\n",
    "approxDataY = np.array([-0.233267+0.6169*x+0.9521*x**2 for x in dataX])\n",
    "approxDataYValues = [1.335733, 4.808933,10.186333,17.467933,26.653733,37.743733]\n",
    "\n",
    "r = np.sum((dataX - xBar)*(dataY - yBar))/np.sqrt(np.sum((dataX - xBar)**2)*(np.sum((dataY - yBar)**2)))\n",
    "\n",
    "print(f\"Nilai koefisien relasi data = {r}\")"
   ]
  },
  {
   "cell_type": "code",
   "execution_count": 1,
   "metadata": {},
   "outputs": [
    {
     "name": "stdout",
     "output_type": "stream",
     "text": [
      "[[1, 1, 1], [1, 2, 4], [1, 3, 9], [1, 4, 16], [1, 5, 25], [1, 6, 36], [1, 7, 49], [1, 8, 64], [1, 9, 81], [1, 10, 100]]\n",
      "[ 0.84333333  1.30136364 -0.0719697 ]\n"
     ]
    },
    {
     "data": {
      "image/png": "[encoded data removed]",
      "text/plain": [
       "<Figure size 640x480 with 1 Axes>"
      ]
     },
     "metadata": {},
     "output_type": "display_data"
    }
   ],
   "source": [
    "import numpy as np\n",
    "import matplotlib.pyplot as plt\n",
    "x=[1,2,3,4,5,6,7,8,9,10]\n",
    "y=[1.8 ,3.5 ,4.2 ,4.9 ,5.3 ,6 ,6.8 ,6.5 ,6.4 ,6.9 ]\n",
    "vander=[]\n",
    "n = int(input(\"Masukkan jumlah orde: \"))\n",
    "x_ =[]\n",
    "iterasi = 0 \n",
    "for i in range(len(x)):\n",
    "    pangkat = 0 \n",
    "    for j in range(n+1):\n",
    "        hasil = x[i]**pangkat\n",
    "        pangkat += 1\n",
    "        x_.append(hasil)\n",
    "    vander.append(x_)\n",
    "    x_ = []\n",
    "print(vander)\n",
    "\n",
    "X = np.array(vander)\n",
    "Xt=np.transpose(X)\n",
    "M = np.dot(Xt,X)\n",
    "M1 = np.linalg.inv(M)\n",
    "Yt = np.transpose(y)\n",
    "beta = np.dot(np.dot(M1,Xt),Yt)\n",
    "print(beta)\n",
    "\n",
    "x1 = np.arange(min(x),max(x)+ 0.1,0.1)\n",
    "y1 = []\n",
    "hasil = 0\n",
    "for i in range (len(x1)):\n",
    "    pangkat = 0\n",
    "    for j in range (n+1):\n",
    "        hasil += beta[j]*x1[i]**pangkat\n",
    "        pangkat += 1\n",
    "    y1.append(hasil)\n",
    "    hasil = 0\n",
    "\n",
    "y2 = []\n",
    "jumlah=0\n",
    "for i in range (len(x)):\n",
    "    pangkat = 0 \n",
    "    for j in range(n+1):\n",
    "        jumlah += beta[j]*x[i]**pangkat\n",
    "        pangkat +=1\n",
    "    y2.append(jumlah)\n",
    "    jumlah = 0\n",
    "\n",
    "D2 = 0 \n",
    "Dt = 0 \n",
    "y_bar = 0\n",
    "\n",
    "for i in range(len(y)):\n",
    "    y_bar += y[i]\n",
    "y_bar = y_bar/len(y)\n",
    "for i in range(len(x)):\n",
    "    D2 += (y[i]-y2[i])**2\n",
    "    Dt += (y[i]-y_bar)**2\n",
    "R = ( (Dt-D2) / Dt )**0.5\n",
    "\n",
    "plt.scatter(x,y)\n",
    "plt.plot(x1,y1, label=\"R:%.4f\" %R)\n",
    "plt.legend()\n",
    "plt.show()"
   ]
  },
  {
   "cell_type": "markdown",
   "metadata": {},
   "source": [
    "# Pembuktian LU = M"
   ]
  },
  {
   "cell_type": "code",
   "execution_count": null,
   "metadata": {},
   "outputs": [],
   "source": [
    "import numpy as np\n",
    "\n",
    "M = np.array([[6,21,91]\n",
    "            ,[21,91,441],\n",
    "            [91,441,2235]], float)"
   ]
  }
 ],
 "metadata": {
  "kernelspec": {
   "display_name": "Python 3",
   "language": "python",
   "name": "python3"
  },
  "language_info": {
   "codemirror_mode": {
    "name": "ipython",
    "version": 3
   },
   "file_extension": ".py",
   "mimetype": "text/x-python",
   "name": "python",
   "nbconvert_exporter": "python",
   "pygments_lexer": "ipython3",
   "version": "3.12.2"
  }
 },
 "nbformat": 4,
 "nbformat_minor": 2
}
