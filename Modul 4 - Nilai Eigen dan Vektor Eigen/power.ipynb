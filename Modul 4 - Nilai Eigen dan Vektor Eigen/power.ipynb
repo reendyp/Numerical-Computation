{
 "cells": [
  {
   "cell_type": "markdown",
   "metadata": {},
   "source": [
    "# Percobaan 1"
   ]
  },
  {
   "cell_type": "code",
   "execution_count": 2,
   "metadata": {},
   "outputs": [
    {
     "name": "stdout",
     "output_type": "stream",
     "text": [
      "vektor eigen = [[1. ]\n",
      " [0.6]\n",
      " [0. ]] \t eigen value = 5.0 \t error = 1\n",
      "vektor eigen = [[1.        ]\n",
      " [0.26086957]\n",
      " [0.13043478]] \t eigen value = 4.6 \t error = 0.40000000000000036\n",
      "vektor eigen = [[1.        ]\n",
      " [0.15306122]\n",
      " [0.03061224]] \t eigen value = 4.260869565217392 \t error = 0.33913043478260807\n",
      "vektor eigen = [[1.        ]\n",
      " [0.08108108]\n",
      " [0.02948403]] \t eigen value = 4.153061224489796 \t error = 0.10780834072759582\n",
      "vektor eigen = [[1.        ]\n",
      " [0.04695966]\n",
      " [0.01264299]] \t eigen value = 4.081081081081081 \t error = 0.07198014340871506\n",
      "Aproksimasi nilai Eigen dan Vektor Eigen\n",
      "vektor eigen = [[1.        ]\n",
      " [0.04695966]\n",
      " [0.01264299]] \t eigen value = 4.081081081081081 \t error = 0.07198014340871506\n"
     ]
    }
   ],
   "source": [
    "# Metode Power\n",
    "import numpy as np\n",
    "# Deklarasi matriks percobaan\n",
    "# Metode pangkat  = a*x dengan x adalah vektor eigen awal\n",
    "\n",
    "a = np.array([[4.0,1.0,0.0],\n",
    "            [0.0,2.0,1.0],\n",
    "            [0.0,1.0,-1.0]],float)\n",
    "x = np.array([[1],[1],[1]],float)\n",
    "e = 1\n",
    "\n",
    "erroVal = []\n",
    "while e > 0.1:\n",
    "    x = np.dot(a,x) # output: vektor eigen, hasil ini akan diambil nilai max nya, kemudian elemen didalamnya akan dibagi dengan nilai maks\n",
    "    maxX = np.max(x)\n",
    "    x *= 1/maxX # output: vektor eigen setelah dibagi dengan nilai maxX\n",
    "    maxX0 = maxX\n",
    "    erroVal.append(maxX0)\n",
    "    for i in range(len(erroVal)-1):\n",
    "        e = abs(erroVal[i+1]-erroVal[i])\n",
    "    print(f\"vektor eigen = {x} \\t eigen value = {maxX} \\t error = {e}\")\n",
    "print(f\"Aproksimasi nilai Eigen dan Vektor Eigen\")\n",
    "print(f\"vektor eigen = {x} \\t eigen value = {maxX} \\t error = {e}\")\n"
   ]
  },
  {
   "cell_type": "markdown",
   "metadata": {},
   "source": [
    "# Percobaan 2"
   ]
  },
  {
   "cell_type": "code",
   "execution_count": 3,
   "metadata": {},
   "outputs": [
    {
     "name": "stdout",
     "output_type": "stream",
     "text": [
      "vektor eigen = [[ 1. ]\n",
      " [-0.5]\n",
      " [ 0. ]] \t eigen value = 2.0 \t error = 1\n",
      "vektor eigen = [[ 1.        ]\n",
      " [-1.14285714]\n",
      " [ 0.14285714]] \t eigen value = 3.5 \t error = 1.5\n",
      "vektor eigen = [[ 1.        ]\n",
      " [-1.68965517]\n",
      " [ 0.31034483]] \t eigen value = 4.142857142857142 \t error = 0.6428571428571423\n",
      "vektor eigen = [[ 1.        ]\n",
      " [-2.06617647]\n",
      " [ 0.42647059]] \t eigen value = 4.689655172413794 \t error = 0.5467980295566512\n",
      "vektor eigen = [[ 1.        ]\n",
      " [-2.27866473]\n",
      " [ 0.49201742]] \t eigen value = 5.0661764705882355 \t error = 0.3765212981744419\n",
      "vektor eigen = [[ 1.        ]\n",
      " [-2.38520759]\n",
      " [ 0.52488315]] \t eigen value = 5.278664731494921 \t error = 0.21248826090668516\n",
      "vektor eigen = [[ 1.        ]\n",
      " [-2.43546411]\n",
      " [ 0.54038599]] \t eigen value = 5.385207588671982 \t error = 0.10654285717706102\n",
      "vektor eigen = [[ 1.        ]\n",
      " [-2.45848637]\n",
      " [ 0.54748777]] \t eigen value = 5.435464107015215 \t error = 0.0502565183432333\n",
      "Aproksimasi nilai Eigen dan Vektor Eigen (Power Method)\n",
      "vektor eigen = [[ 1.        ]\n",
      " [-2.45848637]\n",
      " [ 0.54748777]] \t eigen value = 5.435464107015215 \t error = 0.0502565183432333\n"
     ]
    }
   ],
   "source": [
    "import numpy as np\n",
    "# Deklarasi matriks percobaan\n",
    "# Metode pangkat  = a*x dengan x adalah vektor eigen awal\n",
    "a = np.array([[3.0,-1.0,0.0],\n",
    "            [-2.0,4.0,-3.0],\n",
    "            [0.0,-1.0,1.0]],float)\n",
    "x = np.array([[1],[1],[1]],float)\n",
    "e = 1\n",
    "z =True\n",
    "erroVal = []\n",
    "while e > 0.1:\n",
    "    x = np.dot(a,x) # hasilnya vektor eigen, hasil ini akan diambil nilai max nya, kemudian elemen didalamnya akan dibagi dengan nilai maks\n",
    "    maxX = np.max(x)\n",
    "    x *= 1/maxX # hasil vektor eigen setelah dibagi dengan nilai maxX\n",
    "    maxX0 = maxX\n",
    "    erroVal.append(maxX0)\n",
    "    for i in range(len(erroVal)-1):\n",
    "        e = abs(erroVal[i+1]-erroVal[i]) # cara nentuin error dari nilai eigen =>> problem (solved)\n",
    "    print(f\"vektor eigen = {x} \\t eigen value = {maxX} \\t error = {e}\")\n",
    "print(f\"Aproksimasi nilai Eigen dan Vektor Eigen (Power Method)\")\n",
    "print(f\"vektor eigen = {x} \\t eigen value = {maxX} \\t error = {e}\")"
   ]
  },
  {
   "cell_type": "markdown",
   "metadata": {},
   "source": [
    "# Percobaan 3"
   ]
  },
  {
   "cell_type": "code",
   "execution_count": 2,
   "metadata": {},
   "outputs": [
    {
     "name": "stdout",
     "output_type": "stream",
     "text": [
      "vektor eigen = [[ 1.        ]\n",
      " [-2.16666667]\n",
      " [-3.08333333]] \t eigen value = 24.0 \t error = 1\n",
      "vektor eigen = [[ 0.92307692]\n",
      " [ 1.        ]\n",
      " [-1.34615385]] \t eigen value = 4.333333333333332 \t error = 19.666666666666668\n",
      "vektor eigen = [[ 1.        ]\n",
      " [-0.54166667]\n",
      " [-2.27083333]] \t eigen value = 3.692307692307681 \t error = 0.6410256410256512\n",
      "vektor eigen = [[ 1.        ]\n",
      " [ 0.27083333]\n",
      " [-1.86458333]] \t eigen value = 4.0 \t error = 0.30769230769231903\n",
      "vektor eigen = [[ 1.        ]\n",
      " [-0.13541667]\n",
      " [-2.06770833]] \t eigen value = 3.999999999999986 \t error = 1.4210854715202004e-14\n"
     ]
    }
   ],
   "source": [
    "import numpy as np\n",
    "# Deklarasi matriks percobaan\n",
    "# Metode pangkat  = a*x dengan x adalah vektor eigen awal\n",
    "a = np.array([[20.0,-4.0,8.0],\n",
    "            [-40.0,8.0,-20.0],\n",
    "            [-60.0,12.0,-26.0]],float)\n",
    "x = np.array([[1],[1],[1]],float)\n",
    "e = 1\n",
    "z =True\n",
    "erroVal = []\n",
    "while e > 0.1:\n",
    "    x = np.dot(a,x) # hasilnya vektor eigen, hasil ini akan diambil nilai max nya, kemudian elemen didalamnya akan dibagi dengan nilai maks\n",
    "    maxX = np.max(x)\n",
    "    x *= 1/maxX # hasil vektor eigen setelah dibagi dengan nilai maxX\n",
    "    maxX0 = maxX\n",
    "    erroVal.append(maxX0)\n",
    "    for i in range(len(erroVal)-1):\n",
    "        e = abs(erroVal[i+1]-erroVal[i]) # cara nentuin error dari nilai eigen =>> problem (solved)\n",
    "    print(f\"vektor eigen = {x} \\t eigen value = {maxX} \\t error = {e}\")"
   ]
  }
 ],
 "metadata": {
  "kernelspec": {
   "display_name": "Python 3",
   "language": "python",
   "name": "python3"
  },
  "language_info": {
   "codemirror_mode": {
    "name": "ipython",
    "version": 3
   },
   "file_extension": ".py",
   "mimetype": "text/x-python",
   "name": "python",
   "nbconvert_exporter": "python",
   "pygments_lexer": "ipython3",
   "version": "3.12.2"
  }
 },
 "nbformat": 4,
 "nbformat_minor": 2
}
