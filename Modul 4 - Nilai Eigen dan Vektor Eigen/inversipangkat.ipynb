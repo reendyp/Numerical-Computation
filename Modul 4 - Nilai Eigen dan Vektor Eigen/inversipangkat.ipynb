{
 "cells": [
  {
   "cell_type": "markdown",
   "metadata": {},
   "source": [
    "# Percobaan 1"
   ]
  },
  {
   "cell_type": "code",
   "execution_count": 1,
   "metadata": {},
   "outputs": [
    {
     "name": "stdout",
     "output_type": "stream",
     "text": [
      "Metode Inversi Pangkat\n",
      "vektor eigen = [[ 0.125]\n",
      " [ 1.   ]\n",
      " [-0.5  ]] \t eigen value = [0.66666667] \t error = 1\n",
      "vektor eigen = [[-0.015625]\n",
      " [ 0.25    ]\n",
      " [ 1.      ]] \t eigen value = [0.66666667] \t error = [-2.22044605e-16]\n",
      "Aproksimasi nilai dan vektor eigen (Inversi Power Method)\n",
      "vektor eigen = [[-0.015625]\n",
      " [ 0.25    ]\n",
      " [ 1.      ]] \t eigen value = [0.66666667] \t error = [-2.22044605e-16]\n"
     ]
    }
   ],
   "source": [
    "import numpy as np\n",
    "# Variabel yang digunakan : \n",
    "# 1. eigenValue = Nilai eigen\n",
    "# 2. b = matriks invers dari matriks a\n",
    "\n",
    "print(\"Metode Inversi Pangkat\")\n",
    "a = np.array([[4.0,1.0,0.0],\n",
    "            [0.0,2.0,1.0],\n",
    "            [0.0,1.0,-1.0]],float)\n",
    "\n",
    "x = np.array([[1],[1],[1]],float)\n",
    "\n",
    "b = np.linalg.inv(a)\n",
    "e = 1\n",
    "eigenArray = [] \n",
    "while e>0.1:\n",
    "    x = np.dot(b,x)\n",
    "    eigenValue = max(abs(x))\n",
    "    x *= 1/eigenValue\n",
    "    eigenArray.append(eigenValue)\n",
    "    for i in range(len(eigenArray)-1):\n",
    "        e = eigenArray[i+1]-eigenArray[i]\n",
    "    print(f\"vektor eigen = {x} \\t eigen value = {eigenValue} \\t error = {e}\")\n",
    "print(f\"Aproksimasi nilai dan vektor eigen (Inversi Power Method)\")\n",
    "print(f\"vektor eigen = {x} \\t eigen value = {eigenValue} \\t error = {e}\")"
   ]
  },
  {
   "cell_type": "markdown",
   "metadata": {},
   "source": [
    "# Percobaan 2"
   ]
  },
  {
   "cell_type": "code",
   "execution_count": 2,
   "metadata": {},
   "outputs": [
    {
     "name": "stdout",
     "output_type": "stream",
     "text": [
      "Metode Inversi Pangkat\n",
      "vektor eigen = [[0.33333333]\n",
      " [0.93333333]\n",
      " [1.        ]] \t eigen value minimum = [0.06666667] \t error = 1\n",
      "vektor eigen = [[0.31683168]\n",
      " [0.92574257]\n",
      " [1.        ]] \t eigen value minimum = [0.07425743] \t error = [1.53333333]\n",
      "vektor eigen = [[0.3163529 ]\n",
      " [0.92543374]\n",
      " [1.        ]] \t eigen value minimum = [0.07456626] \t error = [0.05577558]\n",
      "vektor eigen = [[0.31633861]\n",
      " [0.92542326]\n",
      " [1.        ]] \t eigen value minimum = [0.07457674] \t error = [0.00188408]\n",
      "vektor eigen = [[0.31633818]\n",
      " [0.92542293]\n",
      " [1.        ]] \t eigen value minimum = [0.07457707] \t error = [6.00074641e-05]\n",
      "Aproksimasi nilai dan vektor eigen (Inversi Power Method)\n",
      "vektor eigen = [[0.31633818]\n",
      " [0.92542293]\n",
      " [1.        ]] \t eigen value = [13.40894701] \t error = [6.00074641e-05]\n"
     ]
    }
   ],
   "source": [
    "import numpy as np\n",
    "# Variabel yang digunakan : \n",
    "# 1. eigenValue = Nilai eigen\n",
    "# 2. b = matriks invers dari matriks a\n",
    "\n",
    "print(\"Metode Inversi Pangkat\")\n",
    "a = np.array([[3.0,-1.0,0.0],\n",
    "            [-2.0,4.0,-3.0],\n",
    "            [0.0,-1.0,1.0]],float)\n",
    "\n",
    "x = np.array([[1],[1],[1]],float)\n",
    "\n",
    "b = np.linalg.inv(a)\n",
    "e = 1\n",
    "eigenArray = [] \n",
    "while e>0.001:\n",
    "    x = np.dot(b,x)\n",
    "    eigenValue = max(abs(x))\n",
    "    x *= 1/eigenValue\n",
    "    eigenArray.append(eigenValue)\n",
    "    for i in range(len(eigenArray)-1):\n",
    "        e = abs(eigenArray[i+1]-eigenArray[i])\n",
    "    c = 1/eigenValue\n",
    "    print(f\"vektor eigen = {x} \\t eigen value minimum = {format(c)} \\t error = {e}\")\n",
    "print(f\"Aproksimasi nilai dan vektor eigen (Inversi Power Method)\")\n",
    "print(f\"vektor eigen = {x} \\t eigen value = {eigenValue} \\t error = {e}\")"
   ]
  },
  {
   "cell_type": "markdown",
   "metadata": {},
   "source": [
    "# Percobaan 3 (Error determinan matriks 0)"
   ]
  },
  {
   "cell_type": "code",
   "execution_count": 1,
   "metadata": {},
   "outputs": [
    {
     "name": "stdout",
     "output_type": "stream",
     "text": [
      "Metode Inversi Pangkat\n"
     ]
    },
    {
     "ename": "LinAlgError",
     "evalue": "Singular matrix",
     "output_type": "error",
     "traceback": [
      "\u001b[1;31m---------------------------------------------------------------------------\u001b[0m",
      "\u001b[1;31mLinAlgError\u001b[0m                               Traceback (most recent call last)",
      "Cell \u001b[1;32mIn[1], line 12\u001b[0m\n\u001b[0;32m      7\u001b[0m a \u001b[38;5;241m=\u001b[39m np\u001b[38;5;241m.\u001b[39marray([[\u001b[38;5;241m20.0\u001b[39m,\u001b[38;5;241m-\u001b[39m\u001b[38;5;241m4.0\u001b[39m,\u001b[38;5;241m8.0\u001b[39m],\n\u001b[0;32m      8\u001b[0m             [\u001b[38;5;241m-\u001b[39m\u001b[38;5;241m40.0\u001b[39m,\u001b[38;5;241m8.0\u001b[39m,\u001b[38;5;241m-\u001b[39m\u001b[38;5;241m20.0\u001b[39m],\n\u001b[0;32m      9\u001b[0m             [\u001b[38;5;241m-\u001b[39m\u001b[38;5;241m60.0\u001b[39m,\u001b[38;5;241m12.0\u001b[39m,\u001b[38;5;241m-\u001b[39m\u001b[38;5;241m26.0\u001b[39m]],\u001b[38;5;28mfloat\u001b[39m)\n\u001b[0;32m     10\u001b[0m x \u001b[38;5;241m=\u001b[39m np\u001b[38;5;241m.\u001b[39marray([[\u001b[38;5;241m1\u001b[39m],[\u001b[38;5;241m1\u001b[39m],[\u001b[38;5;241m1\u001b[39m]],\u001b[38;5;28mfloat\u001b[39m)\n\u001b[1;32m---> 12\u001b[0m b \u001b[38;5;241m=\u001b[39m \u001b[43mnp\u001b[49m\u001b[38;5;241;43m.\u001b[39;49m\u001b[43mlinalg\u001b[49m\u001b[38;5;241;43m.\u001b[39;49m\u001b[43minv\u001b[49m\u001b[43m(\u001b[49m\u001b[43ma\u001b[49m\u001b[43m)\u001b[49m\n\u001b[0;32m     13\u001b[0m e \u001b[38;5;241m=\u001b[39m \u001b[38;5;241m1\u001b[39m\n\u001b[0;32m     14\u001b[0m eigenArray \u001b[38;5;241m=\u001b[39m [] \n",
      "File \u001b[1;32mc:\\Python312\\Lib\\site-packages\\numpy\\linalg\\linalg.py:561\u001b[0m, in \u001b[0;36minv\u001b[1;34m(a)\u001b[0m\n\u001b[0;32m    559\u001b[0m signature \u001b[38;5;241m=\u001b[39m \u001b[38;5;124m'\u001b[39m\u001b[38;5;124mD->D\u001b[39m\u001b[38;5;124m'\u001b[39m \u001b[38;5;28;01mif\u001b[39;00m isComplexType(t) \u001b[38;5;28;01melse\u001b[39;00m \u001b[38;5;124m'\u001b[39m\u001b[38;5;124md->d\u001b[39m\u001b[38;5;124m'\u001b[39m\n\u001b[0;32m    560\u001b[0m extobj \u001b[38;5;241m=\u001b[39m get_linalg_error_extobj(_raise_linalgerror_singular)\n\u001b[1;32m--> 561\u001b[0m ainv \u001b[38;5;241m=\u001b[39m \u001b[43m_umath_linalg\u001b[49m\u001b[38;5;241;43m.\u001b[39;49m\u001b[43minv\u001b[49m\u001b[43m(\u001b[49m\u001b[43ma\u001b[49m\u001b[43m,\u001b[49m\u001b[43m \u001b[49m\u001b[43msignature\u001b[49m\u001b[38;5;241;43m=\u001b[39;49m\u001b[43msignature\u001b[49m\u001b[43m,\u001b[49m\u001b[43m \u001b[49m\u001b[43mextobj\u001b[49m\u001b[38;5;241;43m=\u001b[39;49m\u001b[43mextobj\u001b[49m\u001b[43m)\u001b[49m\n\u001b[0;32m    562\u001b[0m \u001b[38;5;28;01mreturn\u001b[39;00m wrap(ainv\u001b[38;5;241m.\u001b[39mastype(result_t, copy\u001b[38;5;241m=\u001b[39m\u001b[38;5;28;01mFalse\u001b[39;00m))\n",
      "File \u001b[1;32mc:\\Python312\\Lib\\site-packages\\numpy\\linalg\\linalg.py:112\u001b[0m, in \u001b[0;36m_raise_linalgerror_singular\u001b[1;34m(err, flag)\u001b[0m\n\u001b[0;32m    111\u001b[0m \u001b[38;5;28;01mdef\u001b[39;00m \u001b[38;5;21m_raise_linalgerror_singular\u001b[39m(err, flag):\n\u001b[1;32m--> 112\u001b[0m     \u001b[38;5;28;01mraise\u001b[39;00m LinAlgError(\u001b[38;5;124m\"\u001b[39m\u001b[38;5;124mSingular matrix\u001b[39m\u001b[38;5;124m\"\u001b[39m)\n",
      "\u001b[1;31mLinAlgError\u001b[0m: Singular matrix"
     ]
    }
   ],
   "source": [
    "import numpy as np\n",
    "# Variabel yang digunakan : \n",
    "# 1. eigenValue = Nilai eigen\n",
    "# 2. b = matriks invers dari matriks a\n",
    "\n",
    "print(\"Metode Inversi Pangkat\")\n",
    "a = np.array([[20.0,-4.0,8.0],\n",
    "            [-40.0,8.0,-20.0],\n",
    "            [-60.0,12.0,-26.0]],float)\n",
    "x = np.array([[1],[1],[1]],float)\n",
    "\n",
    "b = np.linalg.inv(a)\n",
    "e = 1\n",
    "eigenArray = [] \n",
    "while e>0.001:\n",
    "    x = np.dot(b,x)\n",
    "    eigenValue = max(abs(x))\n",
    "    x *= 1/eigenValue\n",
    "    eigenArray.append(eigenValue)\n",
    "    for i in range(len(eigenArray)-1):\n",
    "        e = abs(eigenArray[i+1]-eigenArray[i])\n",
    "    c = 1/eigenValue\n",
    "    print(f\"vektor eigen = {x} \\t eigen value minimum = {format(c)} \\t error = {e}\")"
   ]
  }
 ],
 "metadata": {
  "kernelspec": {
   "display_name": "Python 3",
   "language": "python",
   "name": "python3"
  },
  "language_info": {
   "codemirror_mode": {
    "name": "ipython",
    "version": 3
   },
   "file_extension": ".py",
   "mimetype": "text/x-python",
   "name": "python",
   "nbconvert_exporter": "python",
   "pygments_lexer": "ipython3",
   "version": "3.12.2"
  }
 },
 "nbformat": 4,
 "nbformat_minor": 2
}
