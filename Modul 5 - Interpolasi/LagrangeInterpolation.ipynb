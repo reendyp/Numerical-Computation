{
 "cells": [
  {
   "cell_type": "code",
   "execution_count": 4,
   "metadata": {},
   "outputs": [
    {
     "name": "stdout",
     "output_type": "stream",
     "text": [
      "Silahkan input data Anda\n"
     ]
    },
    {
     "name": "stdout",
     "output_type": "stream",
     "text": [
      "[1.]\n",
      "[1.]\n",
      "[1. 4.]\n",
      "[1. 4.]\n",
      "Data anda telah tersimpan\n",
      "[1. 4. 3.]\n",
      "[1. 4. 6.]\n"
     ]
    }
   ],
   "source": [
    "import numpy as np\n",
    "import matplotlib.pyplot as plt\n",
    "\n",
    "x = np.array([])\n",
    "y = np.array([])\n",
    "\n",
    "print(\"Silahkan input data Anda\")\n",
    "k = True\n",
    "while k:\n",
    "    x = np.append(x, float(input(\"x = \")))\n",
    "    y = np.append(y, float(input(\"y = \")))\n",
    "    \n",
    "    userInput = input(\"Apakah ingin menambahkan data kembali? y/n\")\n",
    "    if userInput.lower() == \"n\":\n",
    "        k = False\n",
    "        print(\"Data anda telah tersimpan\")\n",
    "    print(x)\n",
    "    print(y)"
   ]
  }
 ],
 "metadata": {
  "kernelspec": {
   "display_name": "Python 3",
   "language": "python",
   "name": "python3"
  },
  "language_info": {
   "codemirror_mode": {
    "name": "ipython",
    "version": 3
   },
   "file_extension": ".py",
   "mimetype": "text/x-python",
   "name": "python",
   "nbconvert_exporter": "python",
   "pygments_lexer": "ipython3",
   "version": "3.12.2"
  }
 },
 "nbformat": 4,
 "nbformat_minor": 2
}
