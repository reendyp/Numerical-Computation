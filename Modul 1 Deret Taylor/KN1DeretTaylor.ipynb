{
 "cells": [
  {
   "cell_type": "markdown",
   "metadata": {},
   "source": [
    "# Percobaan 1"
   ]
  },
  {
   "cell_type": "code",
   "execution_count": null,
   "metadata": {},
   "outputs": [],
   "source": [
    "import math as mt\n",
    "import numpy as np\n",
    "\n",
    "exactValue = 0.0\n",
    "numericValue = 0.0\n",
    "fx = 0\n",
    "n = 0\n",
    "\n",
    "while True:\n",
    "    numericValue += (((-1)**n)*(fx**(2*n+1))/mt.factorial(2*n+1))\n",
    "    e = (exactValue-numericValue)\n",
    "    n += 1\n",
    "    if n == 8:\n",
    "        break\n",
    "    print(f\"approx = {numericValue: .8f} \\t error = {abs(e): .8f} \\t iterasi = {n}\")"
   ]
  },
  {
   "cell_type": "markdown",
   "metadata": {},
   "source": [
    "# Percobaan 2"
   ]
  },
  {
   "cell_type": "code",
   "execution_count": null,
   "metadata": {},
   "outputs": [],
   "source": [
    "exactValue = 0.0\n",
    "numericValue = 0.0\n",
    "fx = 0 #ln(1) = 0\n",
    "n = 0\n",
    "while True:\n",
    "    numericValue += (((-1**(2*n+1))*(fx-1)**(n+1)/(n+1)))\n",
    "    error = abs(-numericValue + fx)\n",
    "    n+=1\n",
    "    if n == 8:\n",
    "        break\n",
    "    print(f\"approx = {numericValue: .8f} \\t error = {error: .8f}\")"
   ]
  },
  {
   "cell_type": "markdown",
   "metadata": {},
   "source": [
    "# Percobaan 3"
   ]
  },
  {
   "cell_type": "code",
   "execution_count": null,
   "metadata": {},
   "outputs": [],
   "source": [
    "from math import *\n",
    "exactValue = 0.0\n",
    "numericValue = 0.0\n",
    "fx = exp(1) # e**0 = 1\n",
    "n = 0\n",
    "x = 1\n",
    "error = 1\n",
    "while error > 0.0000000001:\n",
    "    numericValue += (x**n/factorial(n))\n",
    "    error = (fx - numericValue)\n",
    "    n += 1\n",
    "    \n",
    "    print(f\"approx = {numericValue: .8f} \\t\\t error = {abs(error)}\")"
   ]
  },
  {
   "cell_type": "markdown",
   "metadata": {},
   "source": [
    "# TUTAM 2"
   ]
  },
  {
   "cell_type": "code",
   "execution_count": null,
   "metadata": {},
   "outputs": [],
   "source": [
    "error = 1\n",
    "numericValue = 0.0\n",
    "x = 0\n",
    "n = 0\n",
    "exactValue = 1.2\n",
    "while error > 0.000000001:\n",
    "    numericValue += (-0.5 * x**2 - 0.25 * x + 1.2 + (-x - 0.25) + 1/2)\n",
    "    error = (exactValue - numericValue)\n",
    "    n += 1\n",
    "    print(f\"Hasil pendekatan numerik = {numericValue} \\t error = {abs(error)}\")"
   ]
  },
  {
   "cell_type": "markdown",
   "metadata": {},
   "source": [
    "# TUTAM 3"
   ]
  },
  {
   "cell_type": "code",
   "execution_count": null,
   "metadata": {},
   "outputs": [],
   "source": [
    "# Hitung fungsi f(x) = ln(cos(x)) dengan x disekitar pi/4\n",
    "from math import *\n",
    "error = 1\n",
    "numValue = 0.0 # Inisiasi hasil numerik dari f(x)\n",
    "exactValue = -9.3954612*(10**-5)\n",
    "x = pi/4\n",
    "n = 0\n",
    "while error > 1e-9:\n",
    "    numValue += (-0.5*x**2-(x**4)/12)\n",
    "    error = (exactValue - numValue)\n",
    "    n+=1\n",
    "    print(f\"Hasil perhitungan numerik = {numValue: .8f} \\t Error = {abs(error): .8f} \\t Iterasi = {n}\")"
   ]
  }
 ],
 "metadata": {
  "language_info": {
   "name": "python"
  }
 },
 "nbformat": 4,
 "nbformat_minor": 2
}
