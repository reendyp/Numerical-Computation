{
 "cells": [
  {
   "cell_type": "markdown",
   "metadata": {},
   "source": [
    "# Percobaan 1"
   ]
  },
  {
   "cell_type": "code",
   "execution_count": 104,
   "metadata": {},
   "outputs": [
    {
     "name": "stdout",
     "output_type": "stream",
     "text": [
      "approx =  0.52359878 \t error =  0.02359878 \t iterasi = 1\n",
      "approx =  0.49967418 \t error =  0.00032582 \t iterasi = 2\n",
      "approx =  0.50000213 \t error =  0.00000213 \t iterasi = 3\n",
      "Hasil analitik =  0.50000000\n",
      "Hasil numerik =  0.49999999 dengan error =  0.00000001, pada iterasi = 4\n"
     ]
    }
   ],
   "source": [
    "import math as mt\n",
    "import numpy as np\n",
    "\n",
    "exactValue = mt.sin(mt.radians(30))\n",
    "numericValue = 0.0\n",
    "fx = mt.radians(30)\n",
    "n = 0\n",
    "a = 0\n",
    "e = 1\n",
    "while True:\n",
    "    numericValue += (((-1)**n)*((fx-a)**(2*n+1))/mt.factorial(2*n+1))\n",
    "    e = (exactValue-numericValue)\n",
    "    n += 1\n",
    "    if n == 4:\n",
    "        break\n",
    "    print(f\"approx = {numericValue: .8f} \\t error = {abs(e): .8f} \\t iterasi = {n}\")\n",
    "print(f\"Hasil analitik = {exactValue: .8f}\")\n",
    "print(f\"Hasil numerik = {numericValue: .8f} dengan error = {abs(e): .8f}, pada iterasi = {n}\")"
   ]
  },
  {
   "cell_type": "markdown",
   "metadata": {},
   "source": [
    "# Percobaan 2"
   ]
  },
  {
   "cell_type": "code",
   "execution_count": 125,
   "metadata": {},
   "outputs": [
    {
     "name": "stdout",
     "output_type": "stream",
     "text": [
      "Hasil perhitungan numerik =  1.00000000 \t Error =  0.306852819 \t Iterasi = 1\n",
      "Hasil perhitungan numerik =  0.50000000 \t Error =  0.193147181 \t Iterasi = 2\n",
      "Hasil perhitungan numerik =  0.83333333 \t Error =  0.140186153 \t Iterasi = 3\n",
      "Hasil perhitungan numerik =  0.58333333 \t Error =  0.109813847 \t Iterasi = 4\n",
      "Hasil perhitungan numerik =  0.78333333 \t Error =  0.090186153 \t Iterasi = 5\n",
      "Hasil perhitungan numerik =  0.61666667 \t Error =  0.076480514 \t Iterasi = 6\n",
      "Hasil perhitungan numerik =  0.75952381 \t Error =  0.066376629 \t Iterasi = 7\n",
      "Hasil analitik = 0.6931471806\n",
      "Aproksimasi :  0.63452381, error =  0.05862337 iterasi: 8\n"
     ]
    }
   ],
   "source": [
    "from math import *\n",
    "error = 1\n",
    "numValue = 0.0 # Inisiasi hasil numerik dari f(x)\n",
    "exactValue = 0.6931471806\n",
    "x = 2\n",
    "n = 0\n",
    "while True:\n",
    "    numValue += ((-1)**(n+2)*(2-1)**(n+1)/(n+1))\n",
    "    error = (exactValue - numValue)\n",
    "    n+=1\n",
    "    if n == 8:\n",
    "        break\n",
    "    print(f\"Hasil perhitungan numerik = {numValue: .8f} \\t Error = {abs(error): .9f} \\t Iterasi = {n}\")\n",
    "print(f\"Hasil analitik = {exactValue}\")\n",
    "print(f\"Aproksimasi : {numValue : .8f}, error = {abs(error): .8f} iterasi: {n}\")"
   ]
  },
  {
   "cell_type": "code",
   "execution_count": 93,
   "metadata": {},
   "outputs": [
    {
     "name": "stdout",
     "output_type": "stream",
     "text": [
      "approx =  0.50000000 \t\t error = 0.0\n"
     ]
    }
   ],
   "source": [
    "from math import *\n",
    "exactValue = 0.5\n",
    "numericValue = 0.0\n",
    "fx = 0.5# e**0 = 1\n",
    "n = 0\n",
    "a = 0\n",
    "error = 1\n",
    "while error > 0.0000000001:\n",
    "    numericValue += (((-1)**n)*((fx-a)**(2*n+1))/mt.factorial(2*n+1))\n",
    "    error = (fx - numericValue)\n",
    "    n += 1\n",
    "    \n",
    "    print(f\"approx = {numericValue: .8f} \\t\\t error = {abs(error)}\")"
   ]
  },
  {
   "cell_type": "markdown",
   "metadata": {},
   "source": [
    "# Percobaan 3"
   ]
  },
  {
   "cell_type": "code",
   "execution_count": 27,
   "metadata": {},
   "outputs": [
    {
     "name": "stdout",
     "output_type": "stream",
     "text": [
      "approx =  1.00000000 \t\t error = 1.718281828459045\n",
      "approx =  2.00000000 \t\t error = 0.7182818284590451\n",
      "approx =  2.50000000 \t\t error = 0.2182818284590451\n",
      "approx =  2.66666667 \t\t error = 0.05161516179237857\n",
      "approx =  2.70833333 \t\t error = 0.009948495125712054\n",
      "approx =  2.71666667 \t\t error = 0.0016151617923787498\n",
      "approx =  2.71805556 \t\t error = 0.0002262729034896438\n",
      "approx =  2.71825397 \t\t error = 2.7860205076724043e-05\n",
      "approx =  2.71827877 \t\t error = 3.0586177750535626e-06\n",
      "approx =  2.71828153 \t\t error = 3.0288585284310443e-07\n",
      "approx =  2.71828180 \t\t error = 2.7312660577649694e-08\n",
      "approx =  2.71828183 \t\t error = 2.260552189881082e-09\n",
      "approx =  2.71828183 \t\t error = 1.7287637987806193e-10\n",
      "approx =  2.71828183 \t\t error = 1.2285727990501982e-11\n"
     ]
    }
   ],
   "source": [
    "from math import *\n",
    "exactValue = 0.0\n",
    "numericValue = 0.0\n",
    "fx = exp(1) # e**0 = 1\n",
    "n = 0\n",
    "x = 1\n",
    "error = 1\n",
    "while error > 0.0000000001:\n",
    "    numericValue += (x**n/factorial(n))\n",
    "    error = (fx - numericValue)\n",
    "    n += 1\n",
    "    \n",
    "    print(f\"approx = {numericValue: .8f} \\t\\t error = {abs(error)}\")"
   ]
  },
  {
   "cell_type": "markdown",
   "metadata": {},
   "source": [
    "# TUTAM 2"
   ]
  },
  {
   "cell_type": "code",
   "execution_count": 22,
   "metadata": {},
   "outputs": [
    {
     "name": "stdout",
     "output_type": "stream",
     "text": [
      "Hasil analitik = 0.95\n",
      "Hasil pendekatan numerik = 1.02, error = 0.07000000000000006\n"
     ]
    }
   ],
   "source": [
    "error = 1\n",
    "numericValue = 0.0\n",
    "x = 0.5 # 0<= x <= 1\n",
    "n = 0\n",
    "a = 0.6 # 0<=a <= 1\n",
    "exactValue = 0.95\n",
    "while error > 0.0000000000001:\n",
    "    numericValue += (-0.5 * x**2 - 0.25 * x + 1.2 + (-x - 0.25)*(x-a) - 1*(x-a)**2/2)\n",
    "    error = (exactValue - numericValue)\n",
    "    n += 1\n",
    "    print(f\"Hasil analitik = {exactValue}\")\n",
    "    print(f\"Hasil pendekatan numerik = {numericValue}, error = {abs(error)}\")"
   ]
  },
  {
   "cell_type": "markdown",
   "metadata": {},
   "source": [
    "# TUTAM 3"
   ]
  },
  {
   "cell_type": "code",
   "execution_count": 61,
   "metadata": {},
   "outputs": [
    {
     "name": "stdout",
     "output_type": "stream",
     "text": [
      "Hasil perhitungan numerik = -0.29289322 \t Error =  0.053680371 \t Iterasi = 1\n",
      "Hasil perhitungan numerik = -0.33578644 \t Error =  0.010787153 \t Iterasi = 2\n",
      "Hasil perhitungan numerik = -0.34416186 \t Error =  0.002411731 \t Iterasi = 3\n",
      "Hasil perhitungan numerik = -0.34600169 \t Error =  0.000571903 \t Iterasi = 4\n",
      "Hasil perhitungan numerik = -0.34643279 \t Error =  0.000140804 \t Iterasi = 5\n",
      "Hasil perhitungan numerik = -0.34653801 \t Error =  0.000035582 \t Iterasi = 6\n",
      "Hasil perhitungan numerik = -0.34656442 \t Error =  0.000009166 \t Iterasi = 7\n",
      "Hasil perhitungan numerik = -0.34657119 \t Error =  0.000002396 \t Iterasi = 8\n",
      "Hasil perhitungan numerik = -0.34657296 \t Error =  0.000000634 \t Iterasi = 9\n",
      "Hasil perhitungan numerik = -0.34657342 \t Error =  0.000000169 \t Iterasi = 10\n",
      "Hasil perhitungan numerik = -0.34657354 \t Error =  0.000000046 \t Iterasi = 11\n",
      "Hasil perhitungan numerik = -0.34657358 \t Error =  0.000000012 \t Iterasi = 12\n",
      "Hasil analitik = -0.3465735903\n",
      "Aproksimasi : -0.346573587, error =  0.000000003 iterasi         14\n"
     ]
    }
   ],
   "source": [
    "# Hitung fungsi f(x) = ln(cos(x)) dengan x disekitar pi/4\n",
    "from math import *\n",
    "error = 1\n",
    "numValue = 0.0 # Inisiasi hasil numerik dari f(x)\n",
    "exactValue = -0.3465735903\n",
    "cos45 = sqrt(2)/2\n",
    "n = 1\n",
    "while True:\n",
    "    numValue += (((-1)**(n+1)*(cos45-1)**n)/n)\n",
    "    error = (exactValue - numValue)\n",
    "    n+=1\n",
    "    if n == 14:\n",
    "        break\n",
    "    print(f\"Hasil perhitungan numerik = {numValue: .8f} \\t Error = {abs(error): .9f} \\t Iterasi = {n-1}\")\n",
    "print(f\"Hasil analitik = {exactValue}\")\n",
    "print(f\"Aproksimasi : {numValue : .9f}, error = {abs(error): .9f} iterasi {n:10}\")"
   ]
  }
 ],
 "metadata": {
  "kernelspec": {
   "display_name": "Python 3",
   "language": "python",
   "name": "python3"
  },
  "language_info": {
   "codemirror_mode": {
    "name": "ipython",
    "version": 3
   },
   "file_extension": ".py",
   "mimetype": "text/x-python",
   "name": "python",
   "nbconvert_exporter": "python",
   "pygments_lexer": "ipython3",
   "version": "3.12.2"
  }
 },
 "nbformat": 4,
 "nbformat_minor": 2
}
