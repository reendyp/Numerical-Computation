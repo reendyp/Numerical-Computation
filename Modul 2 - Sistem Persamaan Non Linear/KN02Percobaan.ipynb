{
 "cells": [
  {
   "cell_type": "markdown",
   "metadata": {},
   "source": [
    "# Percobaan 1 : x**2-3*x - 10; -1<x<1"
   ]
  },
  {
   "cell_type": "code",
   "execution_count": 73,
   "metadata": {},
   "outputs": [
    {
     "name": "stdout",
     "output_type": "stream",
     "text": [
      "Hasil aproksimasi x = 5.00000000\t error = 1.00000000\t iterasi ke-1\n",
      "Hasil aproksimasi x = 4.50000000\t error = 0.50000000\t iterasi ke-2\n",
      "Hasil aproksimasi x = 4.75000000\t error = 0.25000000\t iterasi ke-3\n",
      "Hasil aproksimasi x = 4.87500000\t error = 0.12500000\t iterasi ke-4\n",
      "Hasil aproksimasi x = 4.93750000\t error = 0.06250000\t iterasi ke-5\n",
      "Hasil aproksimasi x = 4.96875000\t error = 0.03125000\t iterasi ke-6\n",
      "Hasil aproksimasi x = 4.98437500\t error = 0.01562500\t iterasi ke-7\n",
      "Hasil aproksimasi x = 4.99218750\t error = 0.00781250\t iterasi ke-8\n",
      "Hasil aproksimasi x = 4.99609375\t error = 0.00390625\t iterasi ke-9\n",
      "Hasil aproksimasi x = 4.99804688\t error = 0.00195312\t iterasi ke-10\n",
      "Hasil aproksimasi x = 4.99902344\t error = 0.00097656\t iterasi ke-11\n",
      "Hasil aproksimasi x = 4.99951172\t error = 0.00048828\t iterasi ke-12\n",
      "Hasil aproksimasi x = 4.99975586\t error = 0.00024414\t iterasi ke-13\n",
      "Hasil aproksimasi x = 4.99987793\t error = 0.00012207\t iterasi ke-14\n",
      "Hasil aproksimasi x = 4.99993896\t error = 0.00006104\t iterasi ke-15\n",
      "Hasil akar aproks = 4.999939 \t Iterasi ke-15 \t 0.00006104\n",
      "Interval 4.0<=x<=6.0\n"
     ]
    }
   ],
   "source": [
    "#Percobaan 1  Bisection Methods\n",
    "\n",
    "a = float(input(\"Masukkan batas awal  : \"))\n",
    "b = float(input(\"Masukkan batas akhir : \"))\n",
    "e = 1.0\n",
    "def bisc(a,b,f,e,n):\n",
    "    xA = a\n",
    "    xB = b\n",
    "    e = 1.0\n",
    "    if f(xA)*f(xB)>0:\n",
    "        while True:\n",
    "            xA = float(input(\"Masukkan batas awal kembali  : \"))\n",
    "            xB = float(input(\"Masukkan batas akhir kembali : \"))\n",
    "            if f(xA)*f(xB)<0:\n",
    "                break\n",
    "        return None\n",
    "    n = 0\n",
    "    \n",
    "    while e > 0.0001:\n",
    "        xMid = (xA+xB)*0.5\n",
    "        n += 1\n",
    "        e = xB - xMid\n",
    "        #print(f\"error = {e}\")\n",
    "        if f(xA)*f(xB)<0:\n",
    "            xB = xMid\n",
    "        else:\n",
    "            xA = xMid\n",
    "        print(f\"Hasil aproksimasi x = {xMid:.8f}\\t error = {e:.8f}\\t iterasi ke-{n}\")\n",
    "    print(f\"Hasil akar aproks = {xMid:8f} \\t Iterasi ke-{n} \\t {e:.8f}\")\n",
    "    return xMid\n",
    "        \n",
    "\n",
    "f = lambda x: x**2-3*x-10\n",
    "x1 = bisc(a,b,f,e,0)\n",
    "print(f\"Interval {a}<=x<={b}\")"
   ]
  },
  {
   "cell_type": "code",
   "execution_count": 67,
   "metadata": {},
   "outputs": [
    {
     "name": "stdout",
     "output_type": "stream",
     "text": [
      "nilai x = 0.500000 \t fx = 3.391165\n",
      "Nilai fix x = 3.391165 \t error = 2.891165\n",
      "nilai x = 3.391165 \t fx = 4.491491\n",
      "Nilai fix x = 4.491491 \t error = 1.100326\n",
      "nilai x = 4.491491 \t fx = 4.845046\n",
      "Nilai fix x = 4.845046 \t error = 0.353555\n",
      "nilai x = 4.845046 \t fx = 4.953296\n",
      "Nilai fix x = 4.953296 \t error = 0.108249\n",
      "nilai x = 4.953296 \t fx = 4.985969\n",
      "Nilai fix x = 4.985969 \t error = 0.032673\n",
      "nilai x = 4.985969 \t fx = 4.995789\n",
      "Nilai fix x = 4.995789 \t error = 0.009820\n",
      "nilai x = 4.995789 \t fx = 4.998737\n",
      "Nilai fix x = 4.998737 \t error = 0.002948\n",
      "nilai x = 4.998737 \t fx = 4.999621\n",
      "Nilai fix x = 4.999621 \t error = 0.000884\n",
      "nilai x = 4.999621 \t fx = 4.999886\n",
      "Nilai fix x = 4.999886 \t error = 0.000265\n",
      "nilai x = 4.999886 \t fx = 4.999966\n"
     ]
    }
   ],
   "source": [
    "# Percobaan 1 : Fixed Point\n",
    "a = float(input(\"Masukkan x tebakan : \"))\n",
    "e = 1\n",
    "def fixPoint(a,f,e = 0.0001):\n",
    "    xOld = a\n",
    "    error = 1\n",
    "    n = 0\n",
    "    while abs(error) > 0.0001:\n",
    "        xNew = f(xOld)\n",
    "        print(f\"nilai x = {xOld:.6f} \\t fx = {f(xOld):.6f}\")\n",
    "        error = xNew - xOld\n",
    "        xOld = xNew\n",
    "        n += 1\n",
    "        if n == 10:\n",
    "            return xOld\n",
    "        print(f\"Nilai fix x = {xOld:.6f} \\t error = {abs(error):.6f}\")\n",
    "        \n",
    "f = lambda x: (10+3*x)**(0.5)\n",
    "xResult = fixPoint(a,f,e)\n",
    "#print(xResult)"
   ]
  },
  {
   "cell_type": "code",
   "execution_count": 66,
   "metadata": {},
   "outputs": [
    {
     "ename": "UnboundLocalError",
     "evalue": "cannot access local variable 'e' where it is not associated with a value",
     "output_type": "error",
     "traceback": [
      "\u001b[1;31m---------------------------------------------------------------------------\u001b[0m",
      "\u001b[1;31mUnboundLocalError\u001b[0m                         Traceback (most recent call last)",
      "Cell \u001b[1;32mIn[66], line 27\u001b[0m\n\u001b[0;32m     24\u001b[0m f \u001b[38;5;241m=\u001b[39m \u001b[38;5;28;01mlambda\u001b[39;00m x: x\u001b[38;5;241m*\u001b[39m\u001b[38;5;241m*\u001b[39m\u001b[38;5;241m2\u001b[39m\u001b[38;5;241m-\u001b[39m\u001b[38;5;241m3\u001b[39m\u001b[38;5;241m*\u001b[39mx\u001b[38;5;241m-\u001b[39m\u001b[38;5;241m10\u001b[39m\n\u001b[0;32m     25\u001b[0m d \u001b[38;5;241m=\u001b[39m \u001b[38;5;28;01mlambda\u001b[39;00m x: \u001b[38;5;241m2\u001b[39m\u001b[38;5;241m*\u001b[39mx\u001b[38;5;241m-\u001b[39m\u001b[38;5;241m3\u001b[39m\n\u001b[1;32m---> 27\u001b[0m x1 \u001b[38;5;241m=\u001b[39m \u001b[43mNewtonRaphson\u001b[49m\u001b[43m(\u001b[49m\u001b[43mf\u001b[49m\u001b[43m,\u001b[49m\u001b[43mx\u001b[49m\u001b[43m,\u001b[49m\u001b[43md\u001b[49m\u001b[43m,\u001b[49m\u001b[43mn\u001b[49m\u001b[43m)\u001b[49m\n",
      "Cell \u001b[1;32mIn[66], line 13\u001b[0m, in \u001b[0;36mNewtonRaphson\u001b[1;34m(f, x, d, n)\u001b[0m\n\u001b[0;32m     11\u001b[0m xInitial \u001b[38;5;241m=\u001b[39m x\n\u001b[0;32m     12\u001b[0m fDeriv \u001b[38;5;241m=\u001b[39m d\n\u001b[1;32m---> 13\u001b[0m \u001b[38;5;28;01mwhile\u001b[39;00m \u001b[43me\u001b[49m \u001b[38;5;241m>\u001b[39m \u001b[38;5;241m0.001\u001b[39m:\n\u001b[0;32m     14\u001b[0m     xFinal \u001b[38;5;241m=\u001b[39m xInitial \u001b[38;5;241m-\u001b[39m f(xInitial)\u001b[38;5;241m/\u001b[39mfDeriv(xInitial) \u001b[38;5;66;03m# Newton Raphson\u001b[39;00m\n\u001b[0;32m     15\u001b[0m     e \u001b[38;5;241m=\u001b[39m xFinal \u001b[38;5;241m-\u001b[39m xInitial\n",
      "\u001b[1;31mUnboundLocalError\u001b[0m: cannot access local variable 'e' where it is not associated with a value"
     ]
    }
   ],
   "source": [
    "# Percobaan 3 : Newton Raphson\n",
    "\n",
    "#Newton-Raphson: x(i+1) = x(i) - f(x)/f'(x)\n",
    "#Deklarasi fungsi \n",
    "#Tebakan awal nilai x\n",
    "# Tentukan error\n",
    "x = float(input(\"Masukkan nilai tebakkan: \"))\n",
    "n = 0\n",
    "e = 1\n",
    "def NewtonRaphson(f,x,d,n):\n",
    "    xInitial = x\n",
    "    fDeriv = d\n",
    "    e = 1\n",
    "    while e > 0.001:\n",
    "        xFinal = xInitial - f(xInitial)/fDeriv(xInitial) # Newton Raphson\n",
    "        e = xFinal - xInitial\n",
    "        xInitial = xFinal\n",
    "        n += 1\n",
    "        print(f\"x1 dari f(x) = {x1} \\t iterasi ke - {n} \\t error = {e}\")\n",
    "    print(f\"Solusi aproksimasi terdekat dari x2 = {xFinal} \\t error = {e} \\t iterasi ke-{n}\")    \n",
    "    return xFinal\n",
    "    \n",
    "    print({e})\n",
    "\n",
    "f = lambda x: x**2-3*x-10\n",
    "d = lambda x: 2*x-3\n",
    "\n",
    "x1 = NewtonRaphson(f,x,d,n)\n"
   ]
  },
  {
   "cell_type": "markdown",
   "metadata": {},
   "source": [
    "# Percobaan B :  sin(x)"
   ]
  },
  {
   "cell_type": "code",
   "execution_count": 7,
   "metadata": {},
   "outputs": [
    {
     "name": "stdout",
     "output_type": "stream",
     "text": [
      "Hasil aproksimasi x = 1.178097\t error = 1.963495\t iterasi ke-1\n",
      "Hasil aproksimasi x = 0.196350\t error = 0.981748\t iterasi ke-2\n",
      "Hasil aproksimasi x = -0.294524\t error = 0.490874\t iterasi ke-3\n",
      "Hasil aproksimasi x = -0.539961\t error = 0.245437\t iterasi ke-4\n",
      "Hasil aproksimasi x = -0.417243\t error = 0.122718\t iterasi ke-5\n",
      "Hasil aproksimasi x = -0.355884\t error = 0.061359\t iterasi ke-6\n",
      "Hasil aproksimasi x = -0.325204\t error = 0.030680\t iterasi ke-7\n",
      "Hasil aproksimasi x = -0.309864\t error = 0.015340\t iterasi ke-8\n",
      "Hasil aproksimasi x = -0.302194\t error = 0.007670\t iterasi ke-9\n",
      "Hasil aproksimasi x = -0.298359\t error = 0.003835\t iterasi ke-10\n",
      "Hasil aproksimasi x = -0.296442\t error = 0.001917\t iterasi ke-11\n",
      "Hasil aproksimasi x = -0.295483\t error = 0.000959\t iterasi ke-12\n",
      "Hasil aproksimasi x = -0.295004\t error = 0.000479\t iterasi ke-13\n",
      "Hasil aproksimasi x = -0.294764\t error = 0.000240\t iterasi ke-14\n",
      "Hasil aproksimasi x = -0.294644\t error = 0.000120\t iterasi ke-15\n",
      "Hasil aproksimasi x = -0.294584\t error = 0.000060\t iterasi ke-16\n",
      "Hasil akar aproks = -0.294584 \t Iterasi ke-16 \t 5.99211245267961e-05\n"
     ]
    }
   ],
   "source": [
    "#Percobaan 1  Bisection Methods\n",
    "from math import *\n",
    "a = -pi/4\n",
    "b = pi\n",
    "e = 1.0\n",
    "def bisc(a,b,f,e,n):\n",
    "    xA = a\n",
    "    xB = b\n",
    "    e = 1.0\n",
    "    if f(xA)*f(xB)>0:\n",
    "        while True:\n",
    "            xA = float(input(\"Masukkan batas awal kembali  : \"))\n",
    "            xB = float(input(\"Masukkan batas akhir kembali : \"))\n",
    "            if f(xA)*f(xB)<0:\n",
    "                break\n",
    "        return None\n",
    "    n = 0\n",
    "    \n",
    "    while e > 0.0001:\n",
    "        xMid = (xA+xB)*0.5\n",
    "        n += 1\n",
    "        e = xB - xMid\n",
    "        if f(xA)*f(xB)<0:\n",
    "            xB = xMid\n",
    "        else:\n",
    "            xA = xMid\n",
    "        print(f\"Hasil aproksimasi x = {xMid:.6f}\\t error = {e:.6f}\\t iterasi ke-{n}\")\n",
    "    print(f\"Hasil akar aproks = {xMid:.6f} \\t Iterasi ke-{n} \\t {e}\")\n",
    "    return xMid\n",
    "        \n",
    "\n",
    "f = lambda x: sin(radians(x))\n",
    "x1 = bisc(a,b,f,e,0)\n",
    "#print(f\"x1 = {x1} \\t iterasi ke-{n[:-1]}\")\n"
   ]
  },
  {
   "cell_type": "code",
   "execution_count": 9,
   "metadata": {},
   "outputs": [
    {
     "name": "stdout",
     "output_type": "stream",
     "text": [
      "x1 dari f(x) = 0.00000 \t iterasi ke - 1 \t error = 0\n",
      "Solusi aproksimasi terdekat dari x = 0 \t error = 0 \t iterasi ke-1\n"
     ]
    }
   ],
   "source": [
    "# Newton Raphson\n",
    "n = 0\n",
    "from math import *\n",
    "from sympy import *\n",
    "x = float(input(\"Masukkan sudut tebak sekitar -pi/4 <=x<=pi/2\"))\n",
    "def NewtonRaphson(f,x,d,n):\n",
    "    xInitial = x\n",
    "    fDeriv = d\n",
    "    e = 1\n",
    "    while e > 0.001:\n",
    "        xFinal = xInitial - f(xInitial)/fDeriv(xInitial) # Newton Raphson\n",
    "        e = xFinal - xInitial\n",
    "        xInitial = xFinal\n",
    "        n += 1\n",
    "        print(f\"x1 dari f(x) = {xInitial:.5f} \\t iterasi ke - {n} \\t error = {e}\")\n",
    "    print(f\"Solusi aproksimasi terdekat dari x = {xFinal} \\t error = {e} \\t iterasi ke-{n}\")    \n",
    "    return xFinal\n",
    "    \n",
    "    print({e})\n",
    "\n",
    "f = lambda x: sin(radians(x))\n",
    "d = lambda x: cos(radians(x))\n",
    "x1 = NewtonRaphson(f,x,d,n)"
   ]
  },
  {
   "cell_type": "code",
   "execution_count": 18,
   "metadata": {},
   "outputs": [
    {
     "name": "stdout",
     "output_type": "stream",
     "text": [
      "nilai x = -0.785398 \t fx = -0.013707\n",
      "Nilai fix x = -0.013707 \t error = 0.771691\n",
      "nilai x = -0.013707 \t fx = -0.000239\n",
      "Nilai fix x = -0.000239 \t error = 0.013468\n",
      "nilai x = -0.000239 \t fx = -0.000004\n",
      "Nilai fix x = -0.000004 \t error = 0.000235\n",
      "nilai x = -0.000004 \t fx = -0.000000\n",
      "Nilai fix x = -0.000000 \t error = 0.000004\n"
     ]
    }
   ],
   "source": [
    "# Fixed Point Ite# Percobaan 1 : Fixed Point\n",
    "def fixPoint(a,f,e = 0.0001):\n",
    "    error = 1\n",
    "    n = 0\n",
    "    while abs(error) > e:\n",
    "        xNew = f(a)\n",
    "        print(f\"nilai x = {a:.6f} \\t fx = {f(a):.6f}\")\n",
    "        error = xNew - a\n",
    "        a = xNew\n",
    "        n += 1\n",
    "        if n == 10:\n",
    "            break\n",
    "        print(f\"Nilai fix x = {a:.6f} \\t error = {abs(error):.6f}\")\n",
    "        \n",
    "f = lambda x: sin(radians(x))\n",
    "a = -pi/4\n",
    "xResult = fixPoint(a,f)\n"
   ]
  },
  {
   "cell_type": "markdown",
   "metadata": {},
   "source": [
    "# PERCOBAAN C : x**3-3*x-20"
   ]
  },
  {
   "cell_type": "code",
   "execution_count": 15,
   "metadata": {},
   "outputs": [
    {
     "name": "stdout",
     "output_type": "stream",
     "text": [
      "Hasil aproksimasi x = 3.250000\t error = 0.250000\t iterasi ke-1\n",
      "Hasil aproksimasi x = 3.125000\t error = 0.125000\t iterasi ke-2\n",
      "Hasil aproksimasi x = 3.062500\t error = 0.062500\t iterasi ke-3\n",
      "Hasil aproksimasi x = 3.031250\t error = 0.031250\t iterasi ke-4\n",
      "Hasil aproksimasi x = 3.046875\t error = 0.015625\t iterasi ke-5\n",
      "Hasil aproksimasi x = 3.054688\t error = 0.007812\t iterasi ke-6\n",
      "Hasil aproksimasi x = 3.058594\t error = 0.003906\t iterasi ke-7\n",
      "Hasil aproksimasi x = 3.060547\t error = 0.001953\t iterasi ke-8\n",
      "Hasil aproksimasi x = 3.061523\t error = 0.000977\t iterasi ke-9\n",
      "Hasil aproksimasi x = 3.062012\t error = 0.000488\t iterasi ke-10\n",
      "Hasil aproksimasi x = 3.062256\t error = 0.000244\t iterasi ke-11\n",
      "Hasil aproksimasi x = 3.062378\t error = 0.000122\t iterasi ke-12\n",
      "Hasil aproksimasi x = 3.062439\t error = 0.000061\t iterasi ke-13\n",
      "Hasil akar aproks = 3.062439 \t Iterasi ke-13 \t 0.000061\n"
     ]
    }
   ],
   "source": [
    "# Bisection Methods\n",
    "a = float(input(\"Masukkan batas awal tebakan : \"))\n",
    "b = float(input(\"Masukkan batas akhir tebakan: \"))\n",
    "e = 1.0\n",
    "def bisc(a,b,f,e,n):\n",
    "    xA = a\n",
    "    xB = b\n",
    "    e = 1.0\n",
    "    if f(xA)*f(xB)>0:\n",
    "        while True:\n",
    "            xA = float(input(\"Masukkan batas awal kembali  : \"))\n",
    "            xB = float(input(\"Masukkan batas akhir kembali : \"))\n",
    "            if f(xA)*f(xB)<0:\n",
    "                break\n",
    "        return None\n",
    "    n = 0\n",
    "    \n",
    "    while e > 0.0001:\n",
    "        xMid = (xA+xB)*0.5\n",
    "        n += 1\n",
    "        e = xB - xMid\n",
    "        if f(xA)*f(xB)<0:\n",
    "            xB = xMid\n",
    "        else:\n",
    "            xA = xMid\n",
    "        print(f\"Hasil aproksimasi x = {xMid:.6f}\\t error = {e:.6f}\\t iterasi ke-{n}\")\n",
    "    print(f\"Hasil akar aproks = {xMid:.6f} \\t Iterasi ke-{n} \\t {e:.6f}\")\n",
    "    return xMid\n",
    "        \n",
    "\n",
    "f = lambda x: x**3-3*x-20\n",
    "x1 = bisc(a,b,f,e,0)"
   ]
  },
  {
   "cell_type": "code",
   "execution_count": 18,
   "metadata": {},
   "outputs": [
    {
     "name": "stdout",
     "output_type": "stream",
     "text": [
      "nilai x = 0.500000 \t fx = 2.780649\n",
      "Nilai fix x = 2.780649 \t error = 2.280649\n",
      "nilai x = 2.780649 \t fx = 3.048900\n",
      "Nilai fix x = 3.048900 \t error = 0.268251\n",
      "nilai x = 3.048900 \t fx = 3.077489\n",
      "Nilai fix x = 3.077489 \t error = 0.028588\n",
      "nilai x = 3.077489 \t fx = 3.080504\n",
      "Nilai fix x = 3.080504 \t error = 0.003016\n",
      "nilai x = 3.080504 \t fx = 3.080822\n",
      "Nilai fix x = 3.080822 \t error = 0.000318\n",
      "nilai x = 3.080822 \t fx = 3.080856\n",
      "Nilai fix x = 3.080856 \t error = 0.000033\n"
     ]
    }
   ],
   "source": [
    "def fixPoint(a,f,e = 0.0001):\n",
    "    error = 1\n",
    "    n = 0\n",
    "    while abs(error) > e:\n",
    "        xNew = f(a)\n",
    "        print(f\"nilai x = {a:.6f} \\t fx = {f(a):.6f}\")\n",
    "        error = xNew - a\n",
    "        a = xNew\n",
    "        n += 1\n",
    "        if n == 10:\n",
    "            break\n",
    "        print(f\"Nilai fix x = {a:.6f} \\t error = {abs(error):.6f}\")\n",
    "        \n",
    "f = lambda x:  (3*x+20)**(1/3)\n",
    "a = float(input(\"Masukkan nilai tebakkan awal: \"))\n",
    "xResult = fixPoint(a,f)"
   ]
  },
  {
   "cell_type": "code",
   "execution_count": 27,
   "metadata": {},
   "outputs": [
    {
     "name": "stdout",
     "output_type": "stream",
     "text": [
      "x1 dari f(x) = 4.000000 \t iterasi ke - 1 \t error = 2.000000\n",
      "x1 dari f(x) = 3.288889 \t iterasi ke - 2 \t error = 0.711111\n",
      "x1 dari f(x) = 3.095052 \t iterasi ke - 3 \t error = 0.193836\n",
      "x1 dari f(x) = 3.080932 \t iterasi ke - 4 \t error = 0.014120\n",
      "x1 dari f(x) = 3.080859 \t iterasi ke - 5 \t error = 0.000073\n",
      "Solusi aproksimasi terdekat dari x2 = 3.080859 \t error = 0.000073 \t iterasi ke-5\n"
     ]
    }
   ],
   "source": [
    "x = float(input(\"Masukkan nilai tebakkan: \"))\n",
    "n = 0\n",
    "def NewtonRaphson(f,x,d,n):\n",
    "    xInitial = x\n",
    "    fDeriv = d\n",
    "    e = 1\n",
    "    while abs(e) > 0.001:\n",
    "        xFinal = xInitial - f(xInitial)/fDeriv(xInitial) # Newton Raphson\n",
    "        e = xFinal - xInitial\n",
    "        xInitial = xFinal\n",
    "        n += 1\n",
    "        print(f\"x1 dari f(x) = {xInitial:.6f} \\t iterasi ke - {n} \\t error = {abs(e):.6f}\")\n",
    "    print(f\"Solusi aproksimasi terdekat dari x2 = {xInitial:.6f} \\t error = {abs(e):.6f} \\t iterasi ke-{n}\")    \n",
    "    return xFinal\n",
    "    \n",
    "    print({e})\n",
    "\n",
    "f = lambda x: x**3-3*x-20\n",
    "d = lambda x: 3*x**2-3\n",
    "\n",
    "x1 = NewtonRaphson(f,x,d,n)"
   ]
  },
  {
   "cell_type": "code",
   "execution_count": 98,
   "metadata": {},
   "outputs": [
    {
     "name": "stdout",
     "output_type": "stream",
     "text": [
      "Hasil aproksimasi x = 0.250000\t error = 0.250000\t iterasi ke-1\n",
      "Hasil aproksimasi x = 0.125000\t error = 0.125000\t iterasi ke-2\n",
      "Hasil aproksimasi x = 0.062500\t error = 0.062500\t iterasi ke-3\n",
      "Hasil aproksimasi x = 0.093750\t error = 0.031250\t iterasi ke-4\n",
      "Hasil aproksimasi x = 0.109375\t error = 0.015625\t iterasi ke-5\n",
      "Hasil aproksimasi x = 0.117188\t error = 0.007812\t iterasi ke-6\n",
      "Hasil aproksimasi x = 0.121094\t error = 0.003906\t iterasi ke-7\n",
      "Hasil aproksimasi x = 0.123047\t error = 0.001953\t iterasi ke-8\n",
      "Hasil aproksimasi x = 0.124023\t error = 0.000977\t iterasi ke-9\n",
      "Hasil aproksimasi x = 0.124512\t error = 0.000488\t iterasi ke-10\n",
      "Hasil aproksimasi x = 0.124756\t error = 0.000244\t iterasi ke-11\n",
      "Hasil aproksimasi x = 0.124878\t error = 0.000122\t iterasi ke-12\n",
      "Hasil aproksimasi x = 0.124939\t error = 0.000061\t iterasi ke-13\n",
      "Hasil akar aproks = 0.124939 \t Iterasi ke-13 \t 0.000061\n"
     ]
    }
   ],
   "source": [
    "from math import *\n",
    "a = float(input(\"Masukkan batas awal tebakan : \"))\n",
    "b = float(input(\"Masukkan batas akhir tebakan: \"))\n",
    "e = 1.0\n",
    "def bisc(a,b,f,e,n):\n",
    "    xA = a\n",
    "    xB = b\n",
    "    e = 1.0\n",
    "    if f(xA)*f(xB)>0:\n",
    "        while True:\n",
    "            xA = float(input(\"Masukkan batas awal kembali  : \"))\n",
    "            xB = float(input(\"Masukkan batas akhir kembali : \"))\n",
    "            if f(xA)*f(xB)<0:\n",
    "                break\n",
    "        return None\n",
    "    n = 0\n",
    "    \n",
    "    while e > 0.0001:\n",
    "        xMid = (xA+xB)*0.5\n",
    "        n += 1\n",
    "        e = xB - xMid\n",
    "        if f(xA)*f(xB)<0:\n",
    "            xB = xMid\n",
    "        else:\n",
    "            xA = xMid\n",
    "        print(f\"Hasil aproksimasi x = {xMid:.6f}\\t error = {e:.6f}\\t iterasi ke-{n}\")\n",
    "    print(f\"Hasil akar aproks = {xMid:.6f} \\t Iterasi ke-{n} \\t {e:.6f}\")\n",
    "    return xMid\n",
    "        \n",
    "\n",
    "f = lambda x: exp(-2*x)-4*x\n",
    "x1 = bisc(a,b,f,e,0)"
   ]
  },
  {
   "cell_type": "code",
   "execution_count": 101,
   "metadata": {},
   "outputs": [
    {
     "name": "stdout",
     "output_type": "stream",
     "text": [
      "nilai x = 0.500000 \t fx = 0.091970\n",
      "Nilai fix x = 0.091970 \t error = 0.408030\t iterasi = 1\n",
      "nilai x = 0.091970 \t fx = 0.207996\n",
      "Nilai fix x = 0.207996 \t error = 0.116027\t iterasi = 2\n",
      "nilai x = 0.207996 \t fx = 0.164921\n",
      "Nilai fix x = 0.164921 \t error = 0.043075\t iterasi = 3\n",
      "nilai x = 0.164921 \t fx = 0.179759\n",
      "Nilai fix x = 0.179759 \t error = 0.014838\t iterasi = 4\n",
      "nilai x = 0.179759 \t fx = 0.174503\n",
      "Nilai fix x = 0.174503 \t error = 0.005256\t iterasi = 5\n",
      "nilai x = 0.174503 \t fx = 0.176347\n",
      "Nilai fix x = 0.176347 \t error = 0.001844\t iterasi = 6\n",
      "nilai x = 0.176347 \t fx = 0.175698\n",
      "Nilai fix x = 0.175698 \t error = 0.000649\t iterasi = 7\n",
      "nilai x = 0.175698 \t fx = 0.175926\n",
      "Nilai fix x = 0.175926 \t error = 0.000228\t iterasi = 8\n",
      "nilai x = 0.175926 \t fx = 0.175846\n",
      "Nilai fix x = 0.175846 \t error = 0.000080\t iterasi = 9\n"
     ]
    }
   ],
   "source": [
    "from math import *\n",
    "def fixPoint(a,f,e = 0.0001):\n",
    "    error = 1\n",
    "    n = 0\n",
    "    while abs(error) > e:\n",
    "        xNew = f(a)\n",
    "        print(f\"nilai x = {a:.6f} \\t fx = {f(a):.6f}\")\n",
    "        error = xNew - a\n",
    "        a = xNew\n",
    "        n += 1\n",
    "        #if n == 10:\n",
    "        #    break\n",
    "        print(f\"Nilai fix x = {a:.6f} \\t error = {abs(error):.6f}\\t iterasi = {n}\")\n",
    "        \n",
    "f = lambda x: exp(-2*x)/4\n",
    "a = float(input(\"Masukkan nilai tebakkan awal: \"))\n",
    "xResult = fixPoint(a,f)"
   ]
  },
  {
   "cell_type": "code",
   "execution_count": 102,
   "metadata": {},
   "outputs": [
    {
     "name": "stdout",
     "output_type": "stream",
     "text": [
      "x1 dari f(x) = 0.155362 \t iterasi ke - 1 \t error = 0.344638\n",
      "x1 dari f(x) = 0.175756 \t iterasi ke - 2 \t error = 0.020393\n",
      "x1 dari f(x) = 0.175867 \t iterasi ke - 3 \t error = 0.000111\n",
      "Solusi aproksimasi terdekat dari x2 = 0.175867 \t error = 0.000111 \t iterasi ke-3\n"
     ]
    }
   ],
   "source": [
    "from math import *\n",
    "x = float(input(\"Masukkan nilai tebakkan: \"))\n",
    "n = 0\n",
    "def NewtonRaphson(f,x,d,n):\n",
    "    xInitial = x\n",
    "    fDeriv = d\n",
    "    e = 1\n",
    "    while abs(e) > 0.001:\n",
    "        xFinal = xInitial - f(xInitial)/fDeriv(xInitial) # Newton Raphson\n",
    "        e = xFinal - xInitial\n",
    "        xInitial = xFinal\n",
    "        n += 1\n",
    "        print(f\"x1 dari f(x) = {xInitial:.6f} \\t iterasi ke - {n} \\t error = {abs(e):.6f}\")\n",
    "    print(f\"Solusi aproksimasi terdekat dari x2 = {xInitial:.6f} \\t error = {abs(e):.6f} \\t iterasi ke-{n}\")    \n",
    "    return xFinal\n",
    "    \n",
    "    print({e})\n",
    "\n",
    "f = lambda x: exp(-2*x)-4*x\n",
    "d = lambda x: -2*exp(-2*x)-4\n",
    "\n",
    "x1 = NewtonRaphson(f,x,d,n)"
   ]
  },
  {
   "cell_type": "markdown",
   "metadata": {},
   "source": [
    "# Percobaan E"
   ]
  },
  {
   "cell_type": "code",
   "execution_count": 70,
   "metadata": {},
   "outputs": [
    {
     "name": "stdout",
     "output_type": "stream",
     "text": [
      "Hasil aproksimasi x = -0.750000\t error = 0.250000\t iterasi ke-1\n",
      "Hasil aproksimasi x = -0.875000\t error = 0.125000\t iterasi ke-2\n",
      "Hasil aproksimasi x = -0.812500\t error = 0.062500\t iterasi ke-3\n",
      "Hasil aproksimasi x = -0.781250\t error = 0.031250\t iterasi ke-4\n",
      "Hasil aproksimasi x = -0.765625\t error = 0.015625\t iterasi ke-5\n",
      "Hasil aproksimasi x = -0.757812\t error = 0.007812\t iterasi ke-6\n",
      "Hasil aproksimasi x = -0.753906\t error = 0.003906\t iterasi ke-7\n",
      "Hasil aproksimasi x = -0.751953\t error = 0.001953\t iterasi ke-8\n",
      "Hasil aproksimasi x = -0.750977\t error = 0.000977\t iterasi ke-9\n",
      "Hasil aproksimasi x = -0.750488\t error = 0.000488\t iterasi ke-10\n",
      "Hasil aproksimasi x = -0.750244\t error = 0.000244\t iterasi ke-11\n",
      "Hasil aproksimasi x = -0.750122\t error = 0.000122\t iterasi ke-12\n",
      "Hasil aproksimasi x = -0.750061\t error = 0.000061\t iterasi ke-13\n",
      "Hasil akar aproks = -0.750061 \t Iterasi ke-13 \t 0.000061\n"
     ]
    }
   ],
   "source": [
    "from math import *\n",
    "import numpy as np\n",
    "a = float(input(\"Masukkan batas awal kembali  : \"))\n",
    "b = float(input(\"Masukkan batas akhir kembali : \"))\n",
    "e = 1.0\n",
    "def bisc(a,b,f,e,n):\n",
    "    xA = a\n",
    "    xB = b\n",
    "    e = 1.0\n",
    "    if f(xA)*f(xB)>0:\n",
    "        while True:\n",
    "            xA = float(input(\"Masukkan batas awal kembali  : \"))\n",
    "            xB = float(input(\"Masukkan batas akhir kembali : \"))\n",
    "            if f(xA)*f(xB)<0:\n",
    "                break\n",
    "        return None\n",
    "    n = 0\n",
    "    \n",
    "    while e > 0.0001:\n",
    "        xMid = (xA+xB)*0.5\n",
    "        n += 1\n",
    "        e = xB - xMid\n",
    "        if f(xA)*f(xB)<0:\n",
    "            xB = xMid\n",
    "        else:\n",
    "            xA = xMid\n",
    "        print(f\"Hasil aproksimasi x = {xMid:.6f}\\t error = {e:.6f}\\t iterasi ke-{n}\")\n",
    "    print(f\"Hasil akar aproks = {xMid:.6f} \\t Iterasi ke-{n} \\t {e:.6f}\")\n",
    "    return xMid\n",
    "        \n",
    "\n",
    "f = lambda x: x*exp(-x)+cos(np.radians(2*x))\n",
    "x1 = bisc(a,b,f,e,0)"
   ]
  },
  {
   "cell_type": "code",
   "execution_count": 71,
   "metadata": {},
   "outputs": [
    {
     "name": "stdout",
     "output_type": "stream",
     "text": [
      "nilai x = -0.500000 \t fx = -0.606438\n",
      "Nilai fix x = -0.606438 \t error = 0.106438\n",
      "nilai x = -0.606438 \t fx = -0.545167\n",
      "Nilai fix x = -0.545167 \t error = 0.061271\n",
      "nilai x = -0.545167 \t fx = -0.579640\n",
      "Nilai fix x = -0.579640 \t error = 0.034472\n",
      "nilai x = -0.579640 \t fx = -0.559985\n",
      "Nilai fix x = -0.559985 \t error = 0.019654\n",
      "nilai x = -0.559985 \t fx = -0.571108\n",
      "Nilai fix x = -0.571108 \t error = 0.011123\n",
      "nilai x = -0.571108 \t fx = -0.564787\n",
      "Nilai fix x = -0.564787 \t error = 0.006321\n",
      "nilai x = -0.564787 \t fx = -0.568371\n",
      "Nilai fix x = -0.568371 \t error = 0.003584\n",
      "nilai x = -0.568371 \t fx = -0.566336\n",
      "Nilai fix x = -0.566336 \t error = 0.002035\n",
      "nilai x = -0.566336 \t fx = -0.567490\n",
      "Nilai fix x = -0.567490 \t error = 0.001154\n",
      "nilai x = -0.567490 \t fx = -0.566835\n",
      "Nilai fix x = -0.566835 \t error = 0.000655\n",
      "nilai x = -0.566835 \t fx = -0.567207\n",
      "Nilai fix x = -0.567207 \t error = 0.000372\n",
      "nilai x = -0.567207 \t fx = -0.566996\n",
      "Nilai fix x = -0.566996 \t error = 0.000211\n",
      "nilai x = -0.566996 \t fx = -0.567116\n",
      "Nilai fix x = -0.567116 \t error = 0.000120\n",
      "nilai x = -0.567116 \t fx = -0.567048\n",
      "Nilai fix x = -0.567048 \t error = 0.000068\n"
     ]
    }
   ],
   "source": [
    "from math import *\n",
    "def fixPoint(a,f,e = 0.0001):\n",
    "    error = 1\n",
    "    n = 0\n",
    "    while abs(error) > e:\n",
    "        xNew = f(a)\n",
    "        print(f\"nilai x = {a:.6f} \\t fx = {f(a):.6f}\")\n",
    "        error = xNew - a\n",
    "        a = xNew\n",
    "        n += 1\n",
    "        #if n == 10:\n",
    "         #   break\n",
    "        print(f\"Nilai fix x = {a:.6f} \\t error = {abs(error):.6f}\")\n",
    "        \n",
    "f = lambda x: cos(radians(2*x))/-exp(-x)\n",
    "a = float(input(\"Masukkan nilai tebakkan awal: \"))\n",
    "xResult = fixPoint(a,f)"
   ]
  },
  {
   "cell_type": "code",
   "execution_count": 57,
   "metadata": {},
   "outputs": [
    {
     "name": "stdout",
     "output_type": "stream",
     "text": [
      "x1 dari f(x) = -0.577582 \t iterasi ke - 1 \t error = 0.127582\n",
      "x1 dari f(x) = -0.567307 \t iterasi ke - 2 \t error = 0.010275\n",
      "x1 dari f(x) = -0.567076 \t iterasi ke - 3 \t error = 0.000231\n",
      "x1 dari f(x) = -0.567072 \t iterasi ke - 4 \t error = 0.000003\n",
      "Solusi aproksimasi terdekat dari x2 = -0.567072 \t error = 0.000003 \t iterasi ke-4\n"
     ]
    }
   ],
   "source": [
    "from math import *\n",
    "x = float(input(\"Masukkan nilai tebakkan: \"))\n",
    "n = 0\n",
    "def NewtonRaphson(f,x,d,n):\n",
    "    xInitial = x\n",
    "    fDeriv = d\n",
    "    e = 1\n",
    "    while abs(e) > 0.0001:\n",
    "        xFinal = xInitial - f(xInitial)/fDeriv(xInitial) # Newton Raphson\n",
    "        e = xFinal - xInitial\n",
    "        xInitial = xFinal\n",
    "        n += 1\n",
    "        print(f\"x1 dari f(x) = {xInitial:.6f} \\t iterasi ke - {n} \\t error = {abs(e):.6f}\")\n",
    "    print(f\"Solusi aproksimasi terdekat dari x2 = {xInitial:.6f} \\t error = {abs(e):.6f} \\t iterasi ke-{n}\")    \n",
    "    return xInitial\n",
    "    \n",
    "    print({e})\n",
    "\n",
    "f = lambda x: x*exp(-x)+cos(radians(2*x))\n",
    "d = lambda x: exp(-x)*(1-x)-sin(radians(2*x))*2\n",
    "\n",
    "x1 = NewtonRaphson(f,x,d,n)"
   ]
  },
  {
   "cell_type": "code",
   "execution_count": 92,
   "metadata": {},
   "outputs": [
    {
     "name": "stdout",
     "output_type": "stream",
     "text": [
      "x1 dari f(x) = 5.000000 \t iterasi ke - 1 \t error = 1.000000\n"
     ]
    },
    {
     "ename": "ZeroDivisionError",
     "evalue": "float division by zero",
     "output_type": "error",
     "traceback": [
      "\u001b[1;31m---------------------------------------------------------------------------\u001b[0m",
      "\u001b[1;31mZeroDivisionError\u001b[0m                         Traceback (most recent call last)",
      "Cell \u001b[1;32mIn[92], line 33\u001b[0m\n\u001b[0;32m     30\u001b[0m     \u001b[38;5;28mprint\u001b[39m(\u001b[38;5;124mf\u001b[39m\u001b[38;5;124m\"\u001b[39m\u001b[38;5;124mSolusi aproksimasi terdekat dari x2 = \u001b[39m\u001b[38;5;132;01m{\u001b[39;00mxFinal\u001b[38;5;132;01m:\u001b[39;00m\u001b[38;5;124m.6f\u001b[39m\u001b[38;5;132;01m}\u001b[39;00m\u001b[38;5;124m \u001b[39m\u001b[38;5;130;01m\\t\u001b[39;00m\u001b[38;5;124m error = \u001b[39m\u001b[38;5;132;01m{\u001b[39;00m\u001b[38;5;28mabs\u001b[39m(e)\u001b[38;5;132;01m:\u001b[39;00m\u001b[38;5;124m.6f\u001b[39m\u001b[38;5;132;01m}\u001b[39;00m\u001b[38;5;124m \u001b[39m\u001b[38;5;130;01m\\t\u001b[39;00m\u001b[38;5;124m iterasi ke-\u001b[39m\u001b[38;5;132;01m{\u001b[39;00mn\u001b[38;5;132;01m}\u001b[39;00m\u001b[38;5;124m\"\u001b[39m)    \n\u001b[0;32m     32\u001b[0m f \u001b[38;5;241m=\u001b[39m \u001b[38;5;28;01mlambda\u001b[39;00m x : x\u001b[38;5;241m*\u001b[39m\u001b[38;5;241m*\u001b[39m\u001b[38;5;241m2\u001b[39m\u001b[38;5;241m-\u001b[39m\u001b[38;5;241m3\u001b[39m\u001b[38;5;241m*\u001b[39mx\u001b[38;5;241m-\u001b[39m\u001b[38;5;241m10\u001b[39m\n\u001b[1;32m---> 33\u001b[0m \u001b[43msecanMethods\u001b[49m\u001b[43m(\u001b[49m\u001b[43ma\u001b[49m\u001b[43m,\u001b[49m\u001b[43mb\u001b[49m\u001b[43m,\u001b[49m\u001b[43mf\u001b[49m\u001b[43m)\u001b[49m\n",
      "Cell \u001b[1;32mIn[92], line 20\u001b[0m, in \u001b[0;36msecanMethods\u001b[1;34m(a, b, f)\u001b[0m\n\u001b[0;32m     18\u001b[0m \u001b[38;5;28;01mwhile\u001b[39;00m \u001b[38;5;28mabs\u001b[39m(e) \u001b[38;5;241m>\u001b[39m \u001b[38;5;241m0.0001\u001b[39m:\n\u001b[0;32m     19\u001b[0m     n \u001b[38;5;241m+\u001b[39m\u001b[38;5;241m=\u001b[39m \u001b[38;5;241m1\u001b[39m\n\u001b[1;32m---> 20\u001b[0m     xFinal \u001b[38;5;241m=\u001b[39m xInitial \u001b[38;5;241m-\u001b[39m \u001b[43mf\u001b[49m\u001b[43m(\u001b[49m\u001b[43mxInitial\u001b[49m\u001b[43m)\u001b[49m\u001b[38;5;241;43m*\u001b[39;49m\u001b[43m(\u001b[49m\u001b[43mxInitial\u001b[49m\u001b[38;5;241;43m-\u001b[39;49m\u001b[43mxOri\u001b[49m\u001b[43m)\u001b[49m\u001b[38;5;241;43m/\u001b[39;49m\u001b[43m(\u001b[49m\u001b[43mf\u001b[49m\u001b[43m(\u001b[49m\u001b[43mxInitial\u001b[49m\u001b[43m)\u001b[49m\u001b[38;5;241;43m-\u001b[39;49m\u001b[43mf\u001b[49m\u001b[43m(\u001b[49m\u001b[43mxOri\u001b[49m\u001b[43m)\u001b[49m\u001b[43m)\u001b[49m \u001b[38;5;66;03m# Newton Raphson\u001b[39;00m\n\u001b[0;32m     21\u001b[0m     \u001b[38;5;66;03m#e = (xInitial) - (xFinal)\u001b[39;00m\n\u001b[0;32m     22\u001b[0m     \u001b[38;5;66;03m#xOri = xInitial\u001b[39;00m\n\u001b[0;32m     23\u001b[0m     xInitial \u001b[38;5;241m=\u001b[39m xFinal\n",
      "\u001b[1;31mZeroDivisionError\u001b[0m: float division by zero"
     ]
    }
   ],
   "source": [
    "# Metode Secan\n",
    "a = float(input(\"Masukkan nilai batas awal  : \"))\n",
    "b = float(input(\"Masukkan nilai batas akhir :\"))\n",
    "n = 0\n",
    "def secanMethods(a,b,f):\n",
    "    xOri = a\n",
    "    xInitial = b\n",
    "    e = 1\n",
    "    n = 0\n",
    "    if f(xOri)*f(xInitial) >0:\n",
    "        print(\"Maaf interval terlalu besar\")\n",
    "        while True:\n",
    "            a = float(input(\"Masukkan batas awal kembali  : \"))\n",
    "            b = float(input(\"Masukkan batas akhir kembali : \"))\n",
    "            if f(a)*f(b)<0:\n",
    "                break\n",
    "            return None\n",
    "    while abs(e) > 0.0001:\n",
    "        n += 1\n",
    "        xFinal = xInitial - f(xInitial)*(xInitial-xOri)/(f(xInitial)-f(xOri)) # Newton Raphson\n",
    "        #e = (xInitial) - (xFinal)\n",
    "        #xOri = xInitial\n",
    "        xInitial = xFinal\n",
    "        if f(xOri)*f(xFinal) <0:\n",
    "            xInitial = xFinal\n",
    "        else:\n",
    "            xOri = xInitial\n",
    "        print(f\"x1 dari f(x) = {xFinal:.6f} \\t iterasi ke - {n} \\t error = {abs(e):.6f}\")\n",
    "    return xFinal\n",
    "    print(f\"Solusi aproksimasi terdekat dari x2 = {xFinal:.6f} \\t error = {abs(e):.6f} \\t iterasi ke-{n}\")    \n",
    "\n",
    "f = lambda x : x**2-3*x-10\n",
    "secanMethods(a,b,f)"
   ]
  },
  {
   "cell_type": "markdown",
   "metadata": {},
   "source": [
    "# Regula falsi"
   ]
  },
  {
   "cell_type": "code",
   "execution_count": 104,
   "metadata": {},
   "outputs": [
    {
     "name": "stdout",
     "output_type": "stream",
     "text": [
      "Hasil aproksimasi x = 0.189961\t error = 0.310039\t iterasi ke-1\n",
      "Hasil aproksimasi x = 0.176555\t error = 0.013406\t iterasi ke-2\n",
      "Hasil aproksimasi x = 0.175901\t error = 0.000655\t iterasi ke-3\n",
      "Hasil aproksimasi x = 0.175869\t error = 0.000032\t iterasi ke-4\n",
      "Hasil akar aproks = 0.175869 \t Iterasi ke-4 \t error = 0.000032\n"
     ]
    }
   ],
   "source": [
    "from math import *\n",
    "import numpy as np\n",
    "a = float(input(\"Masukkan batas awal kembali  : \"))\n",
    "b = float(input(\"Masukkan batas akhir kembali : \"))\n",
    "e = 1.0\n",
    "def bisc(a,b,f,e,n):\n",
    "    xOri = a\n",
    "    xInitial = b\n",
    "    e = 1.0\n",
    "    if f(xOri)*f(xInitial)>0:\n",
    "        while True:\n",
    "            xA = float(input(\"Masukkan batas awal kembali  : \"))\n",
    "            xB = float(input(\"Masukkan batas akhir kembali : \"))\n",
    "            if f(xOri)*f(xInitial)<0:\n",
    "                break\n",
    "        return None\n",
    "    n = 0\n",
    "    \n",
    "    while e > 0.0001:\n",
    "        xMid =  (f(xInitial)*(xOri)-f(xOri)*xInitial)/(f(xInitial)-f(xOri))\n",
    "        n += 1\n",
    "        e = xInitial - xMid\n",
    "        if f(xOri)*f(xInitial)<0:\n",
    "            xInitial = xMid\n",
    "        else:\n",
    "            xOri = xMid\n",
    "        print(f\"Hasil aproksimasi x = {xMid:.6f}\\t error = {abs(e):.6f}\\t iterasi ke-{n}\")\n",
    "    print(f\"Hasil akar aproks = {xMid:.6f} \\t Iterasi ke-{n} \\t error = {abs(e):.6f}\")\n",
    "    return xMid\n",
    "        \n",
    "\n",
    "f = lambda x: exp(-2*x)-4*x\n",
    "x1 = bisc(a,b,f,e,0)"
   ]
  },
  {
   "cell_type": "markdown",
   "metadata": {},
   "source": [
    "# Metode Secant"
   ]
  },
  {
   "cell_type": "code",
   "execution_count": 103,
   "metadata": {},
   "outputs": [
    {
     "name": "stdout",
     "output_type": "stream",
     "text": [
      "Hasil aproksimasi x = 0.189961\t error = 0.310039\t iterasi ke-1\n",
      "Hasil aproksimasi x = 0.176555\t error = 0.013406\t iterasi ke-2\n",
      "Hasil aproksimasi x = 0.175901\t error = 0.000655\t iterasi ke-3\n",
      "Hasil aproksimasi x = 0.175869\t error = 0.000032\t iterasi ke-4\n",
      "Hasil akar aproks = 0.175869 \t Iterasi ke-4 \t error = 0.000032\n"
     ]
    }
   ],
   "source": [
    "from math import *\n",
    "import numpy as np\n",
    "a = float(input(\"Masukkan batas awal kembali  : \"))\n",
    "b = float(input(\"Masukkan batas akhir kembali : \"))\n",
    "e = 1.0\n",
    "def bisc(a,b,f,e,n):\n",
    "    xOri = a\n",
    "    xInitial = b\n",
    "    e = 1.0\n",
    "    if f(xOri)*f(xInitial)>0:\n",
    "        while True:\n",
    "            xA = float(input(\"Masukkan batas awal kembali  : \"))\n",
    "            xB = float(input(\"Masukkan batas akhir kembali : \"))\n",
    "            if f(xOri)*f(xInitial)<0:\n",
    "                break\n",
    "        return None\n",
    "    n = 0\n",
    "    \n",
    "    while e > 0.0001:\n",
    "        xMid =  xInitial - f(xInitial)*(xInitial-xOri)/(f(xInitial)-f(xOri))\n",
    "        n += 1\n",
    "        e = xInitial - xMid\n",
    "        if f(xOri)*f(xInitial)<0:\n",
    "            xInitial = xMid\n",
    "        else:\n",
    "            xOri = xMid\n",
    "        print(f\"Hasil aproksimasi x = {xMid:.6f}\\t error = {abs(e):.6f}\\t iterasi ke-{n}\")\n",
    "    print(f\"Hasil akar aproks =c {xMid:.6f} \\t Iterasi ke-{n} \\t error = {abs(e):.6f}\")\n",
    "    return xMid\n",
    "        \n",
    "\n",
    "f = lambda x: exp(-2*x)-4*x\n",
    "x1 = bisc(a,b,f,e,0)"
   ]
  },
  {
   "cell_type": "code",
   "execution_count": null,
   "metadata": {},
   "outputs": [],
   "source": []
  }
 ],
 "metadata": {
  "kernelspec": {
   "display_name": "Python 3",
   "language": "python",
   "name": "python3"
  },
  "language_info": {
   "codemirror_mode": {
    "name": "ipython",
    "version": 3
   },
   "file_extension": ".py",
   "mimetype": "text/x-python",
   "name": "python",
   "nbconvert_exporter": "python",
   "pygments_lexer": "ipython3",
   "version": "3.12.2"
  }
 },
 "nbformat": 4,
 "nbformat_minor": 2
}
