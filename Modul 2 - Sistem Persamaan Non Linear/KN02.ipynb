{
 "cells": [
  {
   "cell_type": "code",
   "execution_count": 106,
   "metadata": {},
   "outputs": [
    {
     "name": "stdout",
     "output_type": "stream",
     "text": [
      "error = 1.5\n",
      "Hasil aproksimasi x = 2.5\t error = 1.5\t iterasi ke-1\n",
      "error = 0.75\n",
      "Hasil aproksimasi x = 1.75\t error = 0.75\t iterasi ke-2\n",
      "error = 0.375\n",
      "Hasil aproksimasi x = 2.125\t error = 0.375\t iterasi ke-3\n",
      "error = 0.1875\n",
      "Hasil aproksimasi x = 2.3125\t error = 0.1875\t iterasi ke-4\n",
      "error = 0.09375\n",
      "Hasil aproksimasi x = 2.40625\t error = 0.09375\t iterasi ke-5\n",
      "error = 0.046875\n",
      "Hasil aproksimasi x = 2.453125\t error = 0.046875\t iterasi ke-6\n",
      "error = 0.0234375\n",
      "Hasil aproksimasi x = 2.4765625\t error = 0.0234375\t iterasi ke-7\n",
      "error = 0.01171875\n",
      "Hasil aproksimasi x = 2.48828125\t error = 0.01171875\t iterasi ke-8\n",
      "error = 0.005859375\n",
      "Hasil aproksimasi x = 2.494140625\t error = 0.005859375\t iterasi ke-9\n",
      "error = 0.0029296875\n",
      "Hasil aproksimasi x = 2.4970703125\t error = 0.0029296875\t iterasi ke-10\n",
      "error = 0.00146484375\n",
      "Hasil aproksimasi x = 2.49853515625\t error = 0.00146484375\t iterasi ke-11\n",
      "error = 0.000732421875\n",
      "Hasil aproksimasi x = 2.499267578125\t error = 0.000732421875\t iterasi ke-12\n",
      "error = 0.0003662109375\n",
      "Hasil aproksimasi x = 2.4996337890625\t error = 0.0003662109375\t iterasi ke-13\n",
      "error = 0.00018310546875\n",
      "Hasil aproksimasi x = 2.49981689453125\t error = 0.00018310546875\t iterasi ke-14\n",
      "error = 9.1552734375e-05\n",
      "Hasil aproksimasi x = 2.499908447265625\t error = 9.1552734375e-05\t iterasi ke-15\n",
      "Hasil akar aproks = 2.499908447265625 \t Iterasi ke-15 \t 9.1552734375e-05\n"
     ]
    }
   ],
   "source": [
    "a = float(input(\"Masukkan batas awal  : \"))\n",
    "b = float(input(\"Masukkan batas akhir : \"))\n",
    "e = 1.0\n",
    "def bisc(a,b,f,e,n):\n",
    "    xA = a\n",
    "    xB = b\n",
    "    e = 1.0\n",
    "    if f(xA)*f(xB)>0:\n",
    "        while True:\n",
    "            xA = float(input(\"Masukkan batas awal kembali  : \"))\n",
    "            xB = float(input(\"Masukkan batas akhir kembali : \"))\n",
    "            if f(xA)*f(xB)<0:\n",
    "                break\n",
    "        return None\n",
    "    n = 0\n",
    "    \n",
    "    while e > 0.0001:\n",
    "        xMid = (xA+xB)*0.5\n",
    "        n += 1\n",
    "        e = xB - xMid\n",
    "        print(f\"error = {e}\")\n",
    "        if f(xA)*f(xB)<0:\n",
    "            xB = xMid\n",
    "        else:\n",
    "            xA = xMid\n",
    "        print(f\"Hasil aproksimasi x = {xMid}\\t error = {e}\\t iterasi ke-{n}\")\n",
    "    print(f\"Hasil akar aproks = {xMid} \\t Iterasi ke-{n} \\t {e}\")\n",
    "    return xMid\n",
    "        \n",
    "\n",
    "f = lambda x: x**3-3*x-20\n",
    "x1 = bisc(a,b,f,e,0)\n",
    "#print(f\"x1 = {x1} \\t iterasi ke-{n[:-1]}\")"
   ]
  },
  {
   "cell_type": "markdown",
   "metadata": {},
   "source": [
    "# Metode Newton-Raphson"
   ]
  },
  {
   "cell_type": "markdown",
   "metadata": {},
   "source": []
  },
  {
   "cell_type": "code",
   "execution_count": 5,
   "metadata": {},
   "outputs": [
    {
     "ename": "NameError",
     "evalue": "name 'x1' is not defined",
     "output_type": "error",
     "traceback": [
      "\u001b[1;31m---------------------------------------------------------------------------\u001b[0m",
      "\u001b[1;31mNameError\u001b[0m                                 Traceback (most recent call last)",
      "Cell \u001b[1;32mIn[5], line 26\u001b[0m\n\u001b[0;32m     23\u001b[0m f \u001b[38;5;241m=\u001b[39m \u001b[38;5;28;01mlambda\u001b[39;00m x: x\u001b[38;5;241m*\u001b[39m\u001b[38;5;241m*\u001b[39m\u001b[38;5;241m2\u001b[39m\u001b[38;5;241m-\u001b[39m\u001b[38;5;241m3\u001b[39m\u001b[38;5;241m*\u001b[39mx\u001b[38;5;241m-\u001b[39m\u001b[38;5;241m10\u001b[39m\n\u001b[0;32m     24\u001b[0m d \u001b[38;5;241m=\u001b[39m \u001b[38;5;28;01mlambda\u001b[39;00m x: \u001b[38;5;241m2\u001b[39m\u001b[38;5;241m*\u001b[39mx\u001b[38;5;241m-\u001b[39m\u001b[38;5;241m3\u001b[39m\n\u001b[1;32m---> 26\u001b[0m x1 \u001b[38;5;241m=\u001b[39m \u001b[43mNewtonRaphson\u001b[49m\u001b[43m(\u001b[49m\u001b[43mf\u001b[49m\u001b[43m,\u001b[49m\u001b[38;5;241;43m6\u001b[39;49m\u001b[43m,\u001b[49m\u001b[43md\u001b[49m\u001b[43m,\u001b[49m\u001b[43mn\u001b[49m\u001b[43m)\u001b[49m\n",
      "Cell \u001b[1;32mIn[5], line 17\u001b[0m, in \u001b[0;36mNewtonRaphson\u001b[1;34m(f, x, d, n)\u001b[0m\n\u001b[0;32m     15\u001b[0m     xInitial \u001b[38;5;241m=\u001b[39m xFinal\n\u001b[0;32m     16\u001b[0m     n \u001b[38;5;241m+\u001b[39m\u001b[38;5;241m=\u001b[39m \u001b[38;5;241m1\u001b[39m\n\u001b[1;32m---> 17\u001b[0m     \u001b[38;5;28mprint\u001b[39m(\u001b[38;5;124mf\u001b[39m\u001b[38;5;124m\"\u001b[39m\u001b[38;5;124mx1 dari f(x) = \u001b[39m\u001b[38;5;132;01m{\u001b[39;00m\u001b[43mx1\u001b[49m\u001b[38;5;132;01m}\u001b[39;00m\u001b[38;5;124m \u001b[39m\u001b[38;5;130;01m\\t\u001b[39;00m\u001b[38;5;124m iterasi ke - \u001b[39m\u001b[38;5;132;01m{\u001b[39;00mn\u001b[38;5;132;01m}\u001b[39;00m\u001b[38;5;124m \u001b[39m\u001b[38;5;130;01m\\t\u001b[39;00m\u001b[38;5;124m error = \u001b[39m\u001b[38;5;132;01m{\u001b[39;00me\u001b[38;5;132;01m}\u001b[39;00m\u001b[38;5;124m\"\u001b[39m)\n\u001b[0;32m     18\u001b[0m \u001b[38;5;28mprint\u001b[39m(\u001b[38;5;124mf\u001b[39m\u001b[38;5;124m\"\u001b[39m\u001b[38;5;124mSolusi aproksimasi terdekat dari x = \u001b[39m\u001b[38;5;132;01m{\u001b[39;00mxFinal\u001b[38;5;132;01m}\u001b[39;00m\u001b[38;5;124m \u001b[39m\u001b[38;5;130;01m\\t\u001b[39;00m\u001b[38;5;124m error = \u001b[39m\u001b[38;5;132;01m{\u001b[39;00me\u001b[38;5;132;01m}\u001b[39;00m\u001b[38;5;124m \u001b[39m\u001b[38;5;130;01m\\t\u001b[39;00m\u001b[38;5;124m iterasi ke-\u001b[39m\u001b[38;5;132;01m{\u001b[39;00mn\u001b[38;5;132;01m}\u001b[39;00m\u001b[38;5;124m\"\u001b[39m)    \n\u001b[0;32m     19\u001b[0m \u001b[38;5;28;01mreturn\u001b[39;00m xFinal\n",
      "\u001b[1;31mNameError\u001b[0m: name 'x1' is not defined"
     ]
    }
   ],
   "source": [
    "# Percobaan 3 : Newton Raphson\n",
    "\n",
    "#Newton-Raphson: x(i+1) = x(i) - f(x)/f'(x)\n",
    "#Deklarasi fungsi \n",
    "#Tebakan awal nilai x\n",
    "# Tentukan error\n",
    "n = 0\n",
    "def NewtonRaphson(f,x,d,n):\n",
    "    xInitial = x\n",
    "    fDeriv = d\n",
    "    e = 1\n",
    "    while e > 0.001:\n",
    "        xFinal = xInitial - f(xInitial)/fDeriv(xInitial) # Newton Raphson\n",
    "        e = xFinal - xInitial\n",
    "        xInitial = xFinal\n",
    "        n += 1\n",
    "        print(f\"x1 dari f(x) = {x1} \\t iterasi ke - {n} \\t error = {e}\")\n",
    "    print(f\"Solusi aproksimasi terdekat dari x = {xFinal} \\t error = {e} \\t iterasi ke-{n}\")    \n",
    "    return xFinal\n",
    "    \n",
    "    print({e})\n",
    "\n",
    "f = lambda x: x**2-3*x-10\n",
    "d = lambda x: 2*x-3\n",
    "\n",
    "x1 = NewtonRaphson(f,6,d,n)\n"
   ]
  },
  {
   "cell_type": "markdown",
   "metadata": {},
   "source": [
    "# Fixed Point"
   ]
  },
  {
   "cell_type": "code",
   "execution_count": 12,
   "metadata": {},
   "outputs": [
    {
     "name": "stdout",
     "output_type": "stream",
     "text": [
      "nilai x = 0.000000 \t fx = 1.000000\n",
      "nilai x = 1.000000 \t fx = 0.367879\n",
      "nilai x = 0.367879 \t fx = 0.692201\n",
      "nilai x = 0.692201 \t fx = 0.500474\n",
      "nilai x = 0.500474 \t fx = 0.606244\n",
      "nilai x = 0.606244 \t fx = 0.545396\n",
      "nilai x = 0.545396 \t fx = 0.579612\n",
      "nilai x = 0.579612 \t fx = 0.560115\n",
      "nilai x = 0.560115 \t fx = 0.571143\n",
      "nilai x = 0.571143 \t fx = 0.564879\n",
      "0.5648793473910495\n"
     ]
    }
   ],
   "source": [
    "from math import exp\n",
    "def fixPoint(a,f,e = 0.0001):\n",
    "    error = 1\n",
    "    n = 0\n",
    "    while abs(error) > e:\n",
    "        xNew = f(a)\n",
    "        print(f\"nilai x = {a:.6f} \\t fx = {f(a):.6f}\")\n",
    "        error = xNew - a\n",
    "        a = xNew\n",
    "        n += 1\n",
    "        if n == 10:\n",
    "            return a\n",
    "    print(f\"Nilai fix x = {a:.6f} \\t error = {abs(error):.6f}\")\n",
    "        \n",
    "f = lambda x: exp(-x)\n",
    "a = float(input(\"Masukkan x tebakan : \"))\n",
    "xResult = fixPoint(a,f)\n",
    "print(xResult)"
   ]
  },
  {
   "cell_type": "code",
   "execution_count": null,
   "metadata": {},
   "outputs": [],
   "source": []
  }
 ],
 "metadata": {
  "kernelspec": {
   "display_name": "Python 3",
   "language": "python",
   "name": "python3"
  },
  "language_info": {
   "codemirror_mode": {
    "name": "ipython",
    "version": 3
   },
   "file_extension": ".py",
   "mimetype": "text/x-python",
   "name": "python",
   "nbconvert_exporter": "python",
   "pygments_lexer": "ipython3",
   "version": "3.12.2"
  }
 },
 "nbformat": 4,
 "nbformat_minor": 2
}
