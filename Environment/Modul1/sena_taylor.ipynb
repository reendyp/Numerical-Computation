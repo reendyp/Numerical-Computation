{
 "cells": [
  {
   "cell_type": "code",
   "execution_count": 13,
   "metadata": {},
   "outputs": [
    {
     "name": "stdout",
     "output_type": "stream",
     "text": [
      "aproksimani = 1.0\t galatnya = 1.0\n",
      "aproksimani = 0.5\t galatnya = 0.5\n",
      "aproksimani = 0.8333333333333333\t galatnya = 0.8333333333333333\n",
      "aproksimani = 0.5833333333333333\t galatnya = 0.5833333333333333\n",
      "aproksimani = 0.7833333333333332\t galatnya = 0.7833333333333332\n",
      "aproksimani = 0.6166666666666666\t galatnya = 0.6166666666666666\n"
     ]
    }
   ],
   "source": [
    "import math as mt\n",
    "import numpy as np\n",
    "\n",
    "aproks = 0.0\n",
    "n = 1\n",
    "y = 0.0\n",
    "\n",
    "while True :\n",
    "    aproks += ((-1**(n+1)*(y-1)**n)/(n)) #(((-1**(n+1))*(x-1)**n)/n)\n",
    "    error = abs(aproks - y)\n",
    "    n += 1\n",
    "    if n == 8 :\n",
    "        break \n",
    "    print(f\"aproksimasi = {aproks}\\t galatnya = {error}\")\n",
    "    \n",
    "    \n"
   ]
  },
  {
   "cell_type": "code",
   "execution_count": 16,
   "metadata": {},
   "outputs": [
    {
     "ename": "KeyboardInterrupt",
     "evalue": "",
     "output_type": "error",
     "traceback": [
      "\u001b[1;31m---------------------------------------------------------------------------\u001b[0m",
      "\u001b[1;31mKeyboardInterrupt\u001b[0m                         Traceback (most recent call last)",
      "Cell \u001b[1;32mIn[16], line 7\u001b[0m\n\u001b[0;32m      4\u001b[0m n \u001b[38;5;241m=\u001b[39m \u001b[38;5;241m0\u001b[39m\n\u001b[0;32m      5\u001b[0m y \u001b[38;5;241m=\u001b[39m \u001b[38;5;241m0.0\u001b[39m\n\u001b[1;32m----> 7\u001b[0m \u001b[38;5;28;01mwhile\u001b[39;00m \u001b[38;5;28;01mTrue\u001b[39;00m :\n\u001b[0;32m      8\u001b[0m     aproks \u001b[38;5;241m+\u001b[39m\u001b[38;5;241m=\u001b[39m (y\u001b[38;5;241m*\u001b[39m\u001b[38;5;241m*\u001b[39mn)\u001b[38;5;241m/\u001b[39mmt\u001b[38;5;241m.\u001b[39mfactorial(n)\n\u001b[0;32m      9\u001b[0m     error \u001b[38;5;241m=\u001b[39m \u001b[38;5;28mabs\u001b[39m(aproks \u001b[38;5;241m-\u001b[39m y)\n",
      "\u001b[1;31mKeyboardInterrupt\u001b[0m: "
     ]
    }
   ],
   "source": [
    "import math as mt \n",
    "import numpy as np\n",
    "aproks = 0.0\n",
    "n = 0\n",
    "y = 0.0\n",
    "\n",
    "while True :\n",
    "    aproks += \n",
    "    error = abs(aproks - y)\n",
    "    \n",
    "    if :\n",
    "        print(f\"aproksimasi = {aproks}\\t galatnya = {error}\")\n",
    "        break"
   ]
  },
  {
   "cell_type": "markdown",
   "metadata": {},
   "source": []
  },
  {
   "cell_type": "code",
   "execution_count": 17,
   "metadata": {},
   "outputs": [
    {
     "name": "stdout",
     "output_type": "stream",
     "text": [
      "1.0 0.6880917949644685\n",
      "1.5235987755982987 0.16449301936616978\n",
      "1.6606766145023175 0.027415180462150968\n",
      "1.6846012107062525 0.003490584258216023\n",
      "1.6877329330260185 0.000358861938450028\n",
      "1.6880608862204471 3.0908744021340695e-05\n",
      "1.6880895055356233 2.2894288451702494e-06\n",
      "1.6880916462553925 1.487090759422216e-07\n",
      "1.6880917863651739 8.599294609723529e-09\n"
     ]
    }
   ],
   "source": [
    "import math as mt\n",
    "import sympy as sy\n",
    "import numpy as np\n",
    "\n",
    "def f(x):\n",
    "    return np.exp(x)\n",
    "\n",
    "x = np.radians(30)\n",
    "E = 1\n",
    "n = 0\n",
    "eksak = f(x)\n",
    "numerik = 0\n",
    "while E > 0.00000001:\n",
    "    pembilang = x**n\n",
    "    penyebut = mt.factorial(n)\n",
    "    Numerik = numerik + (pembilang/penyebut)\n",
    "    numerik = Numerik\n",
    "    n = n + 1\n",
    "    E = abs(numerik - eksak)\n",
    "    print (numerik, E)\n"
   ]
  },
  {
   "cell_type": "code",
   "execution_count": 33,
   "metadata": {},
   "outputs": [],
   "source": [
    "import math as mt\n",
    "import numpy as np\n",
    "import sympy as sy\n",
    "\n",
    "def f(x):\n",
    "    return np.exp(x)\n",
    "\n",
    "x = np.radians(45)\n",
    "E = 1\n",
    "n = 0\n",
    "eksak = f(x)\n",
    "numerik = 0\n",
    "while E < 0.000000001 :\n",
    "    ashiap = x**n\n",
    "    kontol = mt.factorial(n)\n",
    "    Numerik = numerik + (ashiap/kontol)\n",
    "    numerik = Numerik\n",
    "    n += 1\n",
    "    E = abs(numerik - eksak)\n",
    "    print({numerik}, E)\n",
    "    "
   ]
  }
 ],
 "metadata": {
  "kernelspec": {
   "display_name": "Python 3",
   "language": "python",
   "name": "python3"
  },
  "language_info": {
   "codemirror_mode": {
    "name": "ipython",
    "version": 3
   },
   "file_extension": ".py",
   "mimetype": "text/x-python",
   "name": "python",
   "nbconvert_exporter": "python",
   "pygments_lexer": "ipython3",
   "version": "3.12.2"
  }
 },
 "nbformat": 4,
 "nbformat_minor": 2
}
