{
 "cells": [
  {
   "cell_type": "markdown",
   "metadata": {},
   "source": [
    "# NO. 1 a. f(x) = x**2-5*x+3 dengan error = 10**-3 dan [0,1]"
   ]
  },
  {
   "cell_type": "code",
   "execution_count": 31,
   "metadata": {},
   "outputs": [
    {
     "name": "stdout",
     "output_type": "stream",
     "text": [
      "absolute value of f(xMid) = 0.75,0.37950064818669205\n",
      "absolute value of f(xMid) = 0.1875,1.3945630671633538\n",
      "absolute value of f(xMid) = 0.265625,0.8714068576750229\n",
      "absolute value of f(xMid) = 0.03515625,1.1290787124191866\n",
      "absolute value of f(xMid) = 0.0771484375,1.2608443272912702\n",
      "absolute value of f(xMid) = 0.021240234375,1.1947173792302301\n",
      "absolute value of f(xMid) = 0.00689697265625,1.1618370106684601\n",
      "absolute value of f(xMid) = 0.0071868896484375,1.1782619361602826\n",
      "absolute value of f(xMid) = 0.000148773193359375,1.170045658717104\n",
      "absolute value of f(xMid) = 0.0033731460571289062,1.1659403810184656\n",
      "absolute value of f(xMid) = 0.001611948013305664,1.1679927814492075\n",
      "absolute value of f(xMid) = 0.0007315278053283691,1.1690191604785092\n",
      "absolute value of f(xMid) = 0.0002913624048233032,1.1695323946966454\n",
      "absolute value of f(xMid) = 7.129088044166565e-05,1.1697890229815862\n",
      "absolute value of f(xMid) = 3.874208778142929e-05,1.1699173399180225\n",
      "absolute value of f(xMid) = 1.6274163499474525e-05,1.169853181216972\n",
      "absolute value of f(xMid) = 1.1234020348638296e-05,1.1698852605092895\n",
      "absolute value of f(xMid) = 2.5200570235028863e-06,1.1698692208485788\n",
      "absolute value of f(xMid) = 4.356985300546512e-06,1.169877240675298\n",
      "absolute value of f(xMid) = 9.184650480165146e-07,1.1698732307610271\n",
      "absolute value of f(xMid) = 8.007957603695104e-07,1.1698712258045774\n",
      "absolute value of f(xMid) = 5.883470066692098e-08,1.1698722282827454\n",
      "absolute value of f(xMid) = 3.7098051564044e-07,1.1698717270436454\n",
      "absolute value of f(xMid) = 1.5607290393404583e-07,1.1698719776631918\n",
      "absolute value of f(xMid) = 4.8619100745384e-08,1.1698721029729668\n",
      "absolute value of f(xMid) = 5.107800404857699e-09,1.169872165627858\n",
      "absolute value of f(xMid) = 2.1755650170263152e-08,1.1698721343004124\n",
      "absolute value of f(xMid) = 8.323925104747332e-09,1.1698721499641351\n",
      "absolute value of f(xMid) = 1.6080625719894215e-09,1.1698721577959965\n",
      "absolute value of f(xMid) = 1.7498686943895336e-09,1.1698721617119254\n",
      "absolute value of f(xMid) = 7.0903283244661e-11,1.169872159753961\n",
      "absolute value of f(xMid) = 7.685794223277753e-10,1.1698721587749787\n",
      "absolute value of f(xMid) = 3.488382915861621e-10,1.1698721592644716\n",
      "absolute value of f(xMid) = 1.3896750417075054e-10,1.1698721595092145\n",
      "absolute value of f(xMid) = 3.40323325076497e-11,1.1698721596315877\n",
      "absolute value of f(xMid) = 1.843547536850565e-11,1.1698721596927761\n",
      "absolute value of f(xMid) = 7.7982065249671e-12,1.1698721596621802\n",
      "absolute value of f(xMid) = 5.31841237716435e-12,1.1698721596774782\n",
      "absolute value of f(xMid) = 1.2398970739013748e-12,1.1698721596698292\n",
      "absolute value of f(xMid) = 2.0392576516314875e-12,1.1698721596736554\n",
      "absolute value of f(xMid) = 3.9968028886505635e-13,1.1698721596717405\n",
      "absolute value of f(xMid) = 4.2010839251815923e-13,1.1698721596707848\n",
      "absolute value of f(xMid) = 1.021405182655144e-14,1.1698721596712645\n",
      "absolute value of f(xMid) = 1.949551631241775e-13,1.1698721596715025\n",
      "absolute value of f(xMid) = 9.237055564881302e-14,1.1698721596713817\n",
      "absolute value of f(xMid) = 4.1300296516055823e-14,1.1698721596713249\n",
      "absolute value of f(xMid) = 1.554312234475219e-14,1.1698721596712929\n",
      "absolute value of f(xMid) = 2.6645352591003757e-15,1.1698721596712787\n",
      "absolute value of f(xMid) = 3.552713678800501e-15,1.169872159671268\n",
      "absolute value of f(xMid) = 4.440892098500626e-16,1.1698721596712751\n",
      "absolute value of f(xMid) = 8.881784197001252e-16,1.1698721596712787\n",
      "absolute value of f(xMid) = 0.0,1.1698721596712751\n"
     ]
    },
    {
     "data": {
      "text/plain": [
       "(0.6972243622680054, 4.602349200221332)"
      ]
     },
     "execution_count": 31,
     "metadata": {},
     "output_type": "execute_result"
    }
   ],
   "source": [
    "\n",
    "# input interval awal dan akhir yang telah ditentukan terlebih dahulu\n",
    "a = float(input(\"Masukkan batas awal\"))\n",
    "b = float(input(\"Masukkan batas akhir\"))\n",
    "k = float(input(\"Masukkan nilai a pada ax^2 + bx + c : \"))\n",
    "l = float(input(\"Masukkan nilai b pada ax^2 + bx + c : \"))\n",
    "m = float(input(\"Masukkan nilai c pada ax^2 + bx + c : \"))\n",
    "\n",
    "def bisectionMethod(f,a,b,k,l,m,n=200):\n",
    "    A = k\n",
    "    B = l\n",
    "    C = m\n",
    "    \n",
    "    xA = a\n",
    "    xB = b\n",
    "    # Jika interval tidak dapat memberikan hasil, atau interval terlalu kecil. Silahkan masukkan interval yang lebih kecil\n",
    "    d = float((A**2 - 4*B*C)**0.5/2)\n",
    "    if f(xA)*f(xB) > 0:\n",
    "        while True:\n",
    "            print(\"Warning! The intervals between xA and xB are too big to be considered\")\n",
    "            xA = float(input(\"Masukkan batas awal: \"))\n",
    "            xB = float(input(\"Masukkan batas akhir: \"))\n",
    "            if f(xA)*f(xB) < 0: # jika interval menghasilkan nilai negatif, stop pengulangan karena nilai tengah dapat segera ditentukan. Lanjut ke program baris 17\n",
    "                break\n",
    "        return None # jika kedua interval menghasilkan nilai positif, maka fungsi tidak mengembalikan apa apa\n",
    "    for i in range(1,n):\n",
    "        xMid = (xA+xB)/2 # Program mengevaluasi setiap nilai tengah\n",
    "        xTwo = xMid+d\n",
    "        print(f\"absolute value of f(xMid) = {abs(f(xMid))},{(abs(f(xTwo)))}\")\n",
    "        if (abs(f(xMid)) and abs(f(xTwo-4.3))) <10**-9: # jika nilai mutlak dari xMid lebih kecil dari error maka, xMid akan menjadi output dan nilai f(xMid) otomatis didapatkan\n",
    "            return xMid, xTwo\n",
    "        \n",
    "        #Jika tidak, maka dapat dicek kembali nilai hasil kali f(xMid) dengan interval ujung kanan dan kiri\n",
    "        if f(xA)*f(xMid)<0: # jika ujung kanan dan xMid negatif, maka ujung kiri yaitu xB berubah menjadi xMid\n",
    "            xB = xMid\n",
    "        elif f(xB)*f(xMid)<0: # Sebaliknya pada xA\n",
    "            xA = xMid\n",
    "        else:\n",
    "            print(\"The intervals is too big\")\n",
    "    return xMid,xTwo\n",
    "f = lambda x: x**2-5*x+3\n",
    "bisectionMethod(f,a,b,k,l,m)\n"
   ]
  }
 ],
 "metadata": {
  "kernelspec": {
   "display_name": "Python 3",
   "language": "python",
   "name": "python3"
  },
  "language_info": {
   "codemirror_mode": {
    "name": "ipython",
    "version": 3
   },
   "file_extension": ".py",
   "mimetype": "text/x-python",
   "name": "python",
   "nbconvert_exporter": "python",
   "pygments_lexer": "ipython3",
   "version": "3.11.8"
  }
 },
 "nbformat": 4,
 "nbformat_minor": 2
}
